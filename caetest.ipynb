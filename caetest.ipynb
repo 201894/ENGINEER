{
 "cells": [
  {
   "cell_type": "markdown",
   "id": "baea13f9",
   "metadata": {
    "papermill": {
     "duration": 0.011054,
     "end_time": "2022-05-06T12:03:50.499377",
     "exception": false,
     "start_time": "2022-05-06T12:03:50.488323",
     "status": "completed"
    },
    "tags": []
   },
   "source": [
    "### 1. data loader "
   ]
  },
  {
   "cell_type": "code",
   "execution_count": 1,
   "id": "e6e139f9",
   "metadata": {
    "execution": {
     "iopub.execute_input": "2022-05-06T12:03:50.521529Z",
     "iopub.status.busy": "2022-05-06T12:03:50.520651Z",
     "iopub.status.idle": "2022-05-06T12:03:55.363506Z",
     "shell.execute_reply": "2022-05-06T12:03:55.362643Z"
    },
    "papermill": {
     "duration": 4.856476,
     "end_time": "2022-05-06T12:03:55.365821",
     "exception": false,
     "start_time": "2022-05-06T12:03:50.509345",
     "status": "completed"
    },
    "tags": []
   },
   "outputs": [],
   "source": [
    "import os\n",
    "import cv2\n",
    "import matplotlib.pyplot as plt\n",
    "import numpy as np\n",
    "\n",
    "\n",
    "from keras.preprocessing.image import img_to_array\n",
    "class loader:\n",
    "    def __init__(self):\n",
    "        self.x_data=[]\n",
    "        self.y_data=[]\n",
    "\n",
    "    def load(self,path):\n",
    "        files=os.listdir(path)\n",
    "        for i in files:\n",
    "            img=cv2.imread(path+'/'+i,cv2.IMREAD_GRAYSCALE)# 400 x 600\n",
    "            img=cv2.resize(img,(240,240))\n",
    "            #img=cv2.resize(img,(240,240))\n",
    "            #print(img.shape)\n",
    "            self.y_data.append(img_to_array(img))\n",
    "            self.x_data.append(img_to_array(img))\n",
    "        return self.x_data,self.y_data\n"
   ]
  },
  {
   "cell_type": "markdown",
   "id": "8e7a6954",
   "metadata": {
    "execution": {
     "iopub.execute_input": "2022-05-06T03:14:25.286321Z",
     "iopub.status.busy": "2022-05-06T03:14:25.28609Z",
     "iopub.status.idle": "2022-05-06T03:14:25.547692Z",
     "shell.execute_reply": "2022-05-06T03:14:25.5464Z",
     "shell.execute_reply.started": "2022-05-06T03:14:25.286284Z"
    },
    "papermill": {
     "duration": 0.006003,
     "end_time": "2022-05-06T12:03:55.378173",
     "exception": false,
     "start_time": "2022-05-06T12:03:55.372170",
     "status": "completed"
    },
    "tags": []
   },
   "source": [
    "\n",
    "img=cv2.imread('../input/grid-map/111202511.png',cv2.IMREAD_GRAYSCALE)# 400 x 600\n",
    "img=cv2.resize(img,(240,240)) # 宽 x 高\n",
    "plt.imshow(img, cmap=plt.cm.gray)\n",
    "plt.xticks([])  # 去掉x轴\n",
    "plt.yticks([])  # 去掉y轴\n",
    "plt.axis('off')  # 去掉坐标轴\n",
    "plt.show()"
   ]
  },
  {
   "cell_type": "code",
   "execution_count": 2,
   "id": "a3ed75d8",
   "metadata": {
    "execution": {
     "iopub.execute_input": "2022-05-06T12:03:55.391543Z",
     "iopub.status.busy": "2022-05-06T12:03:55.391226Z",
     "iopub.status.idle": "2022-05-06T12:03:55.415248Z",
     "shell.execute_reply": "2022-05-06T12:03:55.414505Z"
    },
    "papermill": {
     "duration": 0.032727,
     "end_time": "2022-05-06T12:03:55.416926",
     "exception": false,
     "start_time": "2022-05-06T12:03:55.384199",
     "status": "completed"
    },
    "tags": []
   },
   "outputs": [],
   "source": [
    "from keras.models import Model\n",
    "from keras.layers import Conv2D,UpSampling2D,MaxPooling2D\n",
    "from keras.layers import Input\n",
    "from keras.layers import LeakyReLU\n",
    "from keras.layers import BatchNormalization\n",
    "from keras import regularizers\n",
    "\n",
    "class Models:\n",
    "    def __init__(self,w,h,c):\n",
    "        self.w=w\n",
    "        self.h=h\n",
    "        self.c=c\n",
    "    def Arch1(self):\n",
    "        inp=Input(shape=(self.w,self.h,self.c))\n",
    "        enc=Conv2D(64,(3,3),padding='same')(inp)\n",
    "        enc=BatchNormalization()(enc)\n",
    "        enc=LeakyReLU(alpha=0.1)(enc)\n",
    "        enc=MaxPooling2D(pool_size=(2,2))(enc)\n",
    "        enc=Conv2D(32,(3,3),padding='same')(enc)\n",
    "        enc=LeakyReLU(alpha=0.1)(enc)\n",
    "        enc=BatchNormalization()(enc)\n",
    "        enc=MaxPooling2D(pool_size=(2,2))(enc)\n",
    "        enc=Conv2D(16,(3,3),padding='same')(enc)\n",
    "        enc=LeakyReLU(alpha=0.1)(enc)\n",
    "        enc=BatchNormalization()(enc)\n",
    "        enc=MaxPooling2D(pool_size=(2,2))(enc)\n",
    "        enc=Conv2D(8,(3,3),padding='same')(enc)\n",
    "        enc=LeakyReLU(alpha=0.1)(enc)\n",
    "        enc=MaxPooling2D(pool_size=(2,2))(enc)\n",
    "\n",
    "\n",
    "        dec=Conv2D(8,(3,3),padding='same')(enc)\n",
    "        dec=LeakyReLU(alpha=0.1)(dec)\n",
    "        dec=UpSampling2D((2,2))(dec)\n",
    "        dec=Conv2D(16,(3,3),padding='same')(dec)\n",
    "        dec=LeakyReLU(alpha=0.1)(dec)\n",
    "        dec=UpSampling2D((2,2))(dec)\n",
    "        dec=Conv2D(32,(3,3),padding='same')(dec)\n",
    "        dec=LeakyReLU(alpha=0.1)(dec)\n",
    "        dec=UpSampling2D((2,2))(dec)\n",
    "        dec=Conv2D(64,(3,3),padding='same')(dec)\n",
    "        dec=LeakyReLU(alpha=0.1)(dec)\n",
    "        dec=UpSampling2D((2,2))(dec)\n",
    "        final=Conv2D(1,(3,3),padding='same',activation='sigmoid')(dec)\n",
    "        auto=Model(inp,final)\n",
    "        return auto\n",
    "\n",
    "    def Arch2(self):\n",
    "        inp=Input(shape=(self.w,self.h,self.c))\n",
    "        enc=Conv2D(64,(3,3),padding='same',activity_regularizer=regularizers.l1(10e-5))(inp)\n",
    "        enc=BatchNormalization()(enc)\n",
    "        enc=LeakyReLU(alpha=0.1)(enc)\n",
    "        enc=MaxPooling2D(pool_size=(2,2))(enc)\n",
    "        enc=Conv2D(32,(3,3),padding='same',activity_regularizer=regularizers.l1(10e-5))(enc)\n",
    "        enc=LeakyReLU(alpha=0.1)(enc)\n",
    "        enc=BatchNormalization()(enc)\n",
    "        enc=MaxPooling2D(pool_size=(2,2))(enc)\n",
    "        enc=Conv2D(16,(3,3),padding='same',activity_regularizer=regularizers.l1(10e-5))(enc)\n",
    "        enc=LeakyReLU(alpha=0.1)(enc)\n",
    "        enc=BatchNormalization()(enc)\n",
    "        enc=MaxPooling2D(pool_size=(2,2),activity_regularizer=regularizers.l1(10e-5))(enc)\n",
    "        enc=Conv2D(8,(3,3),padding='same')(enc)\n",
    "        enc=LeakyReLU(alpha=0.1)(enc)\n",
    "        enc=MaxPooling2D(pool_size=(2,2))(enc)\n",
    "\n",
    "\n",
    "        dec=Conv2D(8,(3,3),padding='same',activity_regularizer=regularizers.l1(10e-5))(enc)\n",
    "        dec=LeakyReLU(alpha=0.1)(dec)\n",
    "        dec=UpSampling2D((2,2))(dec)\n",
    "        dec=Conv2D(16,(3,3),padding='same',activity_regularizer=regularizers.l1(10e-5))(dec)\n",
    "        dec=LeakyReLU(alpha=0.1)(dec)\n",
    "        dec=UpSampling2D((2,2))(dec)\n",
    "        dec=Conv2D(32,(3,3),padding='same',activity_regularizer=regularizers.l1(10e-5))(dec)\n",
    "        dec=LeakyReLU(alpha=0.1)(dec)\n",
    "        dec=UpSampling2D((2,2))(dec)\n",
    "        dec=Conv2D(64,(3,3),padding='same',activity_regularizer=regularizers.l1(10e-5))(dec)\n",
    "        dec=LeakyReLU(alpha=0.1)(dec)\n",
    "        dec=UpSampling2D((2,2))(dec)\n",
    "        final=Conv2D(1,(3,3),padding='same',activation='sigmoid')(dec)\n",
    "        auto=Model(inp,final)\n",
    "        return auto\n"
   ]
  },
  {
   "cell_type": "markdown",
   "id": "bd2f507e",
   "metadata": {
    "papermill": {
     "duration": 0.005877,
     "end_time": "2022-05-06T12:03:55.428876",
     "exception": false,
     "start_time": "2022-05-06T12:03:55.422999",
     "status": "completed"
    },
    "tags": []
   },
   "source": [
    "## main 函数："
   ]
  },
  {
   "cell_type": "code",
   "execution_count": 3,
   "id": "f2d2be4f",
   "metadata": {
    "execution": {
     "iopub.execute_input": "2022-05-06T12:03:55.441787Z",
     "iopub.status.busy": "2022-05-06T12:03:55.441593Z",
     "iopub.status.idle": "2022-05-06T12:04:14.137361Z",
     "shell.execute_reply": "2022-05-06T12:04:14.136564Z"
    },
    "papermill": {
     "duration": 18.705288,
     "end_time": "2022-05-06T12:04:14.140138",
     "exception": false,
     "start_time": "2022-05-06T12:03:55.434850",
     "status": "completed"
    },
    "tags": []
   },
   "outputs": [],
   "source": [
    "from sklearn.model_selection import train_test_split\n",
    "from keras.preprocessing.image import ImageDataGenerator\n",
    "from keras.optimizers import adam_v2\n",
    "\n",
    "w=240\n",
    "h=240\n",
    "c=1\n",
    "\n",
    "## 数据载入、训练集和测试集划分\n",
    "load_img=loader()\n",
    "x_data,y_data=load_img.load('../input/grid-map')\n",
    "x_data=np.array(x_data,dtype='float')/255.0\n",
    "y_data=np.array(y_data,dtype='float')/255.0\n",
    "train_x,test_x,train_y,test_y=train_test_split(x_data,y_data,test_size=0.1,random_state=30)"
   ]
  },
  {
   "cell_type": "code",
   "execution_count": 4,
   "id": "db350176",
   "metadata": {
    "execution": {
     "iopub.execute_input": "2022-05-06T12:04:14.154540Z",
     "iopub.status.busy": "2022-05-06T12:04:14.154326Z",
     "iopub.status.idle": "2022-05-06T12:07:08.108862Z",
     "shell.execute_reply": "2022-05-06T12:07:08.108091Z"
    },
    "papermill": {
     "duration": 173.964169,
     "end_time": "2022-05-06T12:07:08.110787",
     "exception": false,
     "start_time": "2022-05-06T12:04:14.146618",
     "status": "completed"
    },
    "tags": []
   },
   "outputs": [
    {
     "name": "stderr",
     "output_type": "stream",
     "text": [
      "2022-05-06 12:04:14.263710: I tensorflow/stream_executor/cuda/cuda_gpu_executor.cc:937] successful NUMA node read from SysFS had negative value (-1), but there must be at least one NUMA node, so returning NUMA node zero\n",
      "2022-05-06 12:04:14.365011: I tensorflow/stream_executor/cuda/cuda_gpu_executor.cc:937] successful NUMA node read from SysFS had negative value (-1), but there must be at least one NUMA node, so returning NUMA node zero\n",
      "2022-05-06 12:04:14.366180: I tensorflow/stream_executor/cuda/cuda_gpu_executor.cc:937] successful NUMA node read from SysFS had negative value (-1), but there must be at least one NUMA node, so returning NUMA node zero\n",
      "2022-05-06 12:04:14.368120: I tensorflow/core/platform/cpu_feature_guard.cc:142] This TensorFlow binary is optimized with oneAPI Deep Neural Network Library (oneDNN) to use the following CPU instructions in performance-critical operations:  AVX2 AVX512F FMA\n",
      "To enable them in other operations, rebuild TensorFlow with the appropriate compiler flags.\n",
      "2022-05-06 12:04:14.371964: I tensorflow/stream_executor/cuda/cuda_gpu_executor.cc:937] successful NUMA node read from SysFS had negative value (-1), but there must be at least one NUMA node, so returning NUMA node zero\n",
      "2022-05-06 12:04:14.372677: I tensorflow/stream_executor/cuda/cuda_gpu_executor.cc:937] successful NUMA node read from SysFS had negative value (-1), but there must be at least one NUMA node, so returning NUMA node zero\n",
      "2022-05-06 12:04:14.373374: I tensorflow/stream_executor/cuda/cuda_gpu_executor.cc:937] successful NUMA node read from SysFS had negative value (-1), but there must be at least one NUMA node, so returning NUMA node zero\n",
      "2022-05-06 12:04:16.231687: I tensorflow/stream_executor/cuda/cuda_gpu_executor.cc:937] successful NUMA node read from SysFS had negative value (-1), but there must be at least one NUMA node, so returning NUMA node zero\n",
      "2022-05-06 12:04:16.232626: I tensorflow/stream_executor/cuda/cuda_gpu_executor.cc:937] successful NUMA node read from SysFS had negative value (-1), but there must be at least one NUMA node, so returning NUMA node zero\n",
      "2022-05-06 12:04:16.233375: I tensorflow/stream_executor/cuda/cuda_gpu_executor.cc:937] successful NUMA node read from SysFS had negative value (-1), but there must be at least one NUMA node, so returning NUMA node zero\n",
      "2022-05-06 12:04:16.234755: I tensorflow/core/common_runtime/gpu/gpu_device.cc:1510] Created device /job:localhost/replica:0/task:0/device:GPU:0 with 15403 MB memory:  -> device: 0, name: Tesla P100-PCIE-16GB, pci bus id: 0000:00:04.0, compute capability: 6.0\n"
     ]
    },
    {
     "name": "stdout",
     "output_type": "stream",
     "text": [
      "Model: \"model\"\n",
      "_________________________________________________________________\n",
      "Layer (type)                 Output Shape              Param #   \n",
      "=================================================================\n",
      "input_1 (InputLayer)         [(None, 240, 240, 1)]     0         \n",
      "_________________________________________________________________\n",
      "conv2d (Conv2D)              (None, 240, 240, 64)      640       \n",
      "_________________________________________________________________\n",
      "batch_normalization (BatchNo (None, 240, 240, 64)      256       \n",
      "_________________________________________________________________\n",
      "leaky_re_lu (LeakyReLU)      (None, 240, 240, 64)      0         \n",
      "_________________________________________________________________\n",
      "max_pooling2d (MaxPooling2D) (None, 120, 120, 64)      0         \n",
      "_________________________________________________________________\n",
      "conv2d_1 (Conv2D)            (None, 120, 120, 32)      18464     \n",
      "_________________________________________________________________\n",
      "leaky_re_lu_1 (LeakyReLU)    (None, 120, 120, 32)      0         \n",
      "_________________________________________________________________\n",
      "batch_normalization_1 (Batch (None, 120, 120, 32)      128       \n",
      "_________________________________________________________________\n",
      "max_pooling2d_1 (MaxPooling2 (None, 60, 60, 32)        0         \n",
      "_________________________________________________________________\n",
      "conv2d_2 (Conv2D)            (None, 60, 60, 16)        4624      \n",
      "_________________________________________________________________\n",
      "leaky_re_lu_2 (LeakyReLU)    (None, 60, 60, 16)        0         \n",
      "_________________________________________________________________\n",
      "batch_normalization_2 (Batch (None, 60, 60, 16)        64        \n",
      "_________________________________________________________________\n",
      "max_pooling2d_2 (MaxPooling2 (None, 30, 30, 16)        0         \n",
      "_________________________________________________________________\n",
      "conv2d_3 (Conv2D)            (None, 30, 30, 8)         1160      \n",
      "_________________________________________________________________\n",
      "leaky_re_lu_3 (LeakyReLU)    (None, 30, 30, 8)         0         \n",
      "_________________________________________________________________\n",
      "max_pooling2d_3 (MaxPooling2 (None, 15, 15, 8)         0         \n",
      "_________________________________________________________________\n",
      "conv2d_4 (Conv2D)            (None, 15, 15, 8)         584       \n",
      "_________________________________________________________________\n",
      "leaky_re_lu_4 (LeakyReLU)    (None, 15, 15, 8)         0         \n",
      "_________________________________________________________________\n",
      "up_sampling2d (UpSampling2D) (None, 30, 30, 8)         0         \n",
      "_________________________________________________________________\n",
      "conv2d_5 (Conv2D)            (None, 30, 30, 16)        1168      \n",
      "_________________________________________________________________\n",
      "leaky_re_lu_5 (LeakyReLU)    (None, 30, 30, 16)        0         \n",
      "_________________________________________________________________\n",
      "up_sampling2d_1 (UpSampling2 (None, 60, 60, 16)        0         \n",
      "_________________________________________________________________\n",
      "conv2d_6 (Conv2D)            (None, 60, 60, 32)        4640      \n",
      "_________________________________________________________________\n",
      "leaky_re_lu_6 (LeakyReLU)    (None, 60, 60, 32)        0         \n",
      "_________________________________________________________________\n",
      "up_sampling2d_2 (UpSampling2 (None, 120, 120, 32)      0         \n",
      "_________________________________________________________________\n",
      "conv2d_7 (Conv2D)            (None, 120, 120, 64)      18496     \n",
      "_________________________________________________________________\n",
      "leaky_re_lu_7 (LeakyReLU)    (None, 120, 120, 64)      0         \n",
      "_________________________________________________________________\n",
      "up_sampling2d_3 (UpSampling2 (None, 240, 240, 64)      0         \n",
      "_________________________________________________________________\n",
      "conv2d_8 (Conv2D)            (None, 240, 240, 1)       577       \n",
      "=================================================================\n",
      "Total params: 50,801\n",
      "Trainable params: 50,577\n",
      "Non-trainable params: 224\n",
      "_________________________________________________________________\n"
     ]
    },
    {
     "name": "stderr",
     "output_type": "stream",
     "text": [
      "2022-05-06 12:04:18.463484: I tensorflow/compiler/mlir/mlir_graph_optimization_pass.cc:185] None of the MLIR Optimization Passes are enabled (registered 2)\n"
     ]
    },
    {
     "name": "stdout",
     "output_type": "stream",
     "text": [
      "Epoch 1/20\n"
     ]
    },
    {
     "name": "stderr",
     "output_type": "stream",
     "text": [
      "2022-05-06 12:04:20.345195: I tensorflow/stream_executor/cuda/cuda_dnn.cc:369] Loaded cuDNN version 8005\n"
     ]
    },
    {
     "name": "stdout",
     "output_type": "stream",
     "text": [
      "429/429 [==============================] - 16s 20ms/step - loss: 6.9583 - val_loss: 2.1708\n",
      "Epoch 2/20\n",
      "429/429 [==============================] - 8s 19ms/step - loss: 3.0385 - val_loss: 2.5787\n",
      "Epoch 3/20\n",
      "429/429 [==============================] - 8s 19ms/step - loss: 2.3433 - val_loss: 2.1195\n",
      "Epoch 4/20\n",
      "429/429 [==============================] - 8s 19ms/step - loss: 1.8034 - val_loss: 1.5601\n",
      "Epoch 5/20\n",
      "429/429 [==============================] - 8s 19ms/step - loss: 1.4470 - val_loss: 1.3413\n",
      "Epoch 6/20\n",
      "429/429 [==============================] - 8s 19ms/step - loss: 1.2699 - val_loss: 1.2316\n",
      "Epoch 7/20\n",
      "429/429 [==============================] - 8s 19ms/step - loss: 1.1704 - val_loss: 1.1504\n",
      "Epoch 8/20\n",
      "429/429 [==============================] - 8s 19ms/step - loss: 1.1188 - val_loss: 1.0973\n",
      "Epoch 9/20\n",
      "429/429 [==============================] - 8s 19ms/step - loss: 1.0847 - val_loss: 1.0125\n",
      "Epoch 10/20\n",
      "429/429 [==============================] - 8s 19ms/step - loss: 1.0621 - val_loss: 1.0199\n",
      "Epoch 11/20\n",
      "429/429 [==============================] - 8s 19ms/step - loss: 1.0401 - val_loss: 1.0479\n",
      "Epoch 12/20\n",
      "429/429 [==============================] - 8s 19ms/step - loss: 1.0426 - val_loss: 1.0369\n",
      "Epoch 13/20\n",
      "429/429 [==============================] - 8s 19ms/step - loss: 1.0274 - val_loss: 1.0292\n",
      "Epoch 14/20\n",
      "429/429 [==============================] - 8s 19ms/step - loss: 1.0167 - val_loss: 1.0306\n",
      "Epoch 15/20\n",
      "429/429 [==============================] - 8s 19ms/step - loss: 1.0042 - val_loss: 1.0067\n",
      "Epoch 16/20\n",
      "429/429 [==============================] - 8s 19ms/step - loss: 0.9782 - val_loss: 0.9476\n",
      "Epoch 17/20\n",
      "429/429 [==============================] - 8s 19ms/step - loss: 0.9676 - val_loss: 1.0038\n",
      "Epoch 18/20\n",
      "429/429 [==============================] - 8s 19ms/step - loss: 0.9580 - val_loss: 0.9832\n",
      "Epoch 19/20\n",
      "429/429 [==============================] - 8s 19ms/step - loss: 0.9602 - val_loss: 0.9761\n",
      "Epoch 20/20\n",
      "429/429 [==============================] - 8s 19ms/step - loss: 0.9525 - val_loss: 0.9536\n"
     ]
    }
   ],
   "source": [
    "## 模型载入\n",
    "model=Models(w,h,c)\n",
    "auto_encoder=model.Arch2()\n",
    "auto_encoder.summary()\n",
    "\n",
    "opt= adam_v2.Adam(learning_rate=0.001,decay=0.001/100)\n",
    "\n",
    "auto_encoder.compile(optimizer= opt,loss='binary_crossentropy')\n",
    "auto_encoder.fit(train_x,train_y,batch_size=4,shuffle='true',epochs=20,validation_data=(test_x,test_y),verbose=1)\n",
    "auto_encoder.save_weights('my_model_weights.h5')\n"
   ]
  }
 ],
 "metadata": {
  "kernelspec": {
   "display_name": "Python 3",
   "language": "python",
   "name": "python3"
  },
  "language_info": {
   "codemirror_mode": {
    "name": "ipython",
    "version": 3
   },
   "file_extension": ".py",
   "mimetype": "text/x-python",
   "name": "python",
   "nbconvert_exporter": "python",
   "pygments_lexer": "ipython3",
   "version": "3.7.12"
  },
  "papermill": {
   "default_parameters": {},
   "duration": 209.368528,
   "end_time": "2022-05-06T12:07:12.004216",
   "environment_variables": {},
   "exception": null,
   "input_path": "__notebook__.ipynb",
   "output_path": "__notebook__.ipynb",
   "parameters": {},
   "start_time": "2022-05-06T12:03:42.635688",
   "version": "2.3.4"
  }
 },
 "nbformat": 4,
 "nbformat_minor": 5
}
