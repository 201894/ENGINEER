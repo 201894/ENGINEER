{
 "cells": [
  {
   "cell_type": "markdown",
   "id": "68c3a11a",
   "metadata": {
    "papermill": {
     "duration": 0.008105,
     "end_time": "2022-05-06T07:04:05.631477",
     "exception": false,
     "start_time": "2022-05-06T07:04:05.623372",
     "status": "completed"
    },
    "tags": []
   },
   "source": [
    "### 1. data loader "
   ]
  },
  {
   "cell_type": "code",
   "execution_count": 1,
   "id": "981b8d74",
   "metadata": {
    "execution": {
     "iopub.execute_input": "2022-05-06T07:04:05.646421Z",
     "iopub.status.busy": "2022-05-06T07:04:05.646100Z",
     "iopub.status.idle": "2022-05-06T07:04:10.454232Z",
     "shell.execute_reply": "2022-05-06T07:04:10.453478Z"
    },
    "papermill": {
     "duration": 4.818387,
     "end_time": "2022-05-06T07:04:10.456746",
     "exception": false,
     "start_time": "2022-05-06T07:04:05.638359",
     "status": "completed"
    },
    "tags": []
   },
   "outputs": [],
   "source": [
    "import os\n",
    "import cv2\n",
    "import matplotlib.pyplot as plt\n",
    "import numpy as np\n",
    "\n",
    "\n",
    "from keras.preprocessing.image import img_to_array\n",
    "class loader:\n",
    "    def __init__(self):\n",
    "        self.x_data=[]\n",
    "        self.y_data=[]\n",
    "\n",
    "    def load(self,path):\n",
    "        files=os.listdir(path)\n",
    "        for i in files:\n",
    "            img=cv2.imread(path+'/'+i,cv2.IMREAD_GRAYSCALE)# 400 x 600\n",
    "            img=cv2.resize(img,(240,240))\n",
    "            #img=cv2.resize(img,(240,240))\n",
    "            #print(img.shape)\n",
    "            self.y_data.append(img_to_array(img))\n",
    "            self.x_data.append(img_to_array(img))\n",
    "        return self.x_data,self.y_data\n"
   ]
  },
  {
   "cell_type": "markdown",
   "id": "661d1867",
   "metadata": {
    "execution": {
     "iopub.execute_input": "2022-05-06T03:14:25.286321Z",
     "iopub.status.busy": "2022-05-06T03:14:25.28609Z",
     "iopub.status.idle": "2022-05-06T03:14:25.547692Z",
     "shell.execute_reply": "2022-05-06T03:14:25.5464Z",
     "shell.execute_reply.started": "2022-05-06T03:14:25.286284Z"
    },
    "papermill": {
     "duration": 0.006649,
     "end_time": "2022-05-06T07:04:10.470243",
     "exception": false,
     "start_time": "2022-05-06T07:04:10.463594",
     "status": "completed"
    },
    "tags": []
   },
   "source": [
    "\n",
    "img=cv2.imread('../input/grid-map/111202511.png',cv2.IMREAD_GRAYSCALE)# 400 x 600\n",
    "img=cv2.resize(img,(240,240)) # 宽 x 高\n",
    "plt.imshow(img, cmap=plt.cm.gray)\n",
    "plt.xticks([])  # 去掉x轴\n",
    "plt.yticks([])  # 去掉y轴\n",
    "plt.axis('off')  # 去掉坐标轴\n",
    "plt.show()"
   ]
  },
  {
   "cell_type": "code",
   "execution_count": 2,
   "id": "fb10e2bf",
   "metadata": {
    "execution": {
     "iopub.execute_input": "2022-05-06T07:04:10.484621Z",
     "iopub.status.busy": "2022-05-06T07:04:10.484424Z",
     "iopub.status.idle": "2022-05-06T07:04:10.508503Z",
     "shell.execute_reply": "2022-05-06T07:04:10.507902Z"
    },
    "papermill": {
     "duration": 0.033205,
     "end_time": "2022-05-06T07:04:10.510164",
     "exception": false,
     "start_time": "2022-05-06T07:04:10.476959",
     "status": "completed"
    },
    "tags": []
   },
   "outputs": [],
   "source": [
    "from keras.models import Model\n",
    "from keras.layers import Conv2D,UpSampling2D,MaxPooling2D\n",
    "from keras.layers import Input\n",
    "from keras.layers import LeakyReLU\n",
    "from keras.layers import BatchNormalization\n",
    "from keras import regularizers\n",
    "\n",
    "class Models:\n",
    "    def __init__(self,w,h,c):\n",
    "        self.w=w\n",
    "        self.h=h\n",
    "        self.c=c\n",
    "    def Arch1(self):\n",
    "        inp=Input(shape=(self.w,self.h,self.c))\n",
    "        enc=Conv2D(64,(3,3),padding='same')(inp)\n",
    "        enc=BatchNormalization()(enc)\n",
    "        enc=LeakyReLU(alpha=0.1)(enc)\n",
    "        enc=MaxPooling2D(pool_size=(2,2))(enc)\n",
    "        enc=Conv2D(32,(3,3),padding='same')(enc)\n",
    "        enc=LeakyReLU(alpha=0.1)(enc)\n",
    "        enc=BatchNormalization()(enc)\n",
    "        enc=MaxPooling2D(pool_size=(2,2))(enc)\n",
    "        enc=Conv2D(16,(3,3),padding='same')(enc)\n",
    "        enc=LeakyReLU(alpha=0.1)(enc)\n",
    "        enc=BatchNormalization()(enc)\n",
    "        enc=MaxPooling2D(pool_size=(2,2))(enc)\n",
    "        enc=Conv2D(8,(3,3),padding='same')(enc)\n",
    "        enc=LeakyReLU(alpha=0.1)(enc)\n",
    "        enc=MaxPooling2D(pool_size=(2,2))(enc)\n",
    "\n",
    "\n",
    "        dec=Conv2D(8,(3,3),padding='same')(enc)\n",
    "        dec=LeakyReLU(alpha=0.1)(dec)\n",
    "        dec=UpSampling2D((2,2))(dec)\n",
    "        dec=Conv2D(16,(3,3),padding='same')(dec)\n",
    "        dec=LeakyReLU(alpha=0.1)(dec)\n",
    "        dec=UpSampling2D((2,2))(dec)\n",
    "        dec=Conv2D(32,(3,3),padding='same')(dec)\n",
    "        dec=LeakyReLU(alpha=0.1)(dec)\n",
    "        dec=UpSampling2D((2,2))(dec)\n",
    "        dec=Conv2D(64,(3,3),padding='same')(dec)\n",
    "        dec=LeakyReLU(alpha=0.1)(dec)\n",
    "        dec=UpSampling2D((2,2))(dec)\n",
    "        final=Conv2D(1,(3,3),padding='same',activation='sigmoid')(dec)\n",
    "        auto=Model(inp,final)\n",
    "        return auto\n",
    "\n",
    "    def Arch2(self):\n",
    "        inp=Input(shape=(self.w,self.h,self.c))\n",
    "        enc=Conv2D(64,(3,3),padding='same',activity_regularizer=regularizers.l1(10e-5))(inp)\n",
    "        enc=BatchNormalization()(enc)\n",
    "        enc=LeakyReLU(alpha=0.1)(enc)\n",
    "        enc=MaxPooling2D(pool_size=(2,2))(enc)\n",
    "        enc=Conv2D(32,(3,3),padding='same',activity_regularizer=regularizers.l1(10e-5))(enc)\n",
    "        enc=LeakyReLU(alpha=0.1)(enc)\n",
    "        enc=BatchNormalization()(enc)\n",
    "        enc=MaxPooling2D(pool_size=(2,2))(enc)\n",
    "        enc=Conv2D(16,(3,3),padding='same',activity_regularizer=regularizers.l1(10e-5))(enc)\n",
    "        enc=LeakyReLU(alpha=0.1)(enc)\n",
    "        enc=BatchNormalization()(enc)\n",
    "        enc=MaxPooling2D(pool_size=(2,2),activity_regularizer=regularizers.l1(10e-5))(enc)\n",
    "        enc=Conv2D(8,(3,3),padding='same')(enc)\n",
    "        enc=LeakyReLU(alpha=0.1)(enc)\n",
    "        enc=MaxPooling2D(pool_size=(2,2))(enc)\n",
    "\n",
    "\n",
    "        dec=Conv2D(8,(3,3),padding='same',activity_regularizer=regularizers.l1(10e-5))(enc)\n",
    "        dec=LeakyReLU(alpha=0.1)(dec)\n",
    "        dec=UpSampling2D((2,2))(dec)\n",
    "        dec=Conv2D(16,(3,3),padding='same',activity_regularizer=regularizers.l1(10e-5))(dec)\n",
    "        dec=LeakyReLU(alpha=0.1)(dec)\n",
    "        dec=UpSampling2D((2,2))(dec)\n",
    "        dec=Conv2D(32,(3,3),padding='same',activity_regularizer=regularizers.l1(10e-5))(dec)\n",
    "        dec=LeakyReLU(alpha=0.1)(dec)\n",
    "        dec=UpSampling2D((2,2))(dec)\n",
    "        dec=Conv2D(64,(3,3),padding='same',activity_regularizer=regularizers.l1(10e-5))(dec)\n",
    "        dec=LeakyReLU(alpha=0.1)(dec)\n",
    "        dec=UpSampling2D((2,2))(dec)\n",
    "        final=Conv2D(1,(3,3),padding='same',activation='sigmoid')(dec)\n",
    "        auto=Model(inp,final)\n",
    "        return auto\n"
   ]
  },
  {
   "cell_type": "markdown",
   "id": "108dd3d5",
   "metadata": {
    "papermill": {
     "duration": 0.00636,
     "end_time": "2022-05-06T07:04:10.523040",
     "exception": false,
     "start_time": "2022-05-06T07:04:10.516680",
     "status": "completed"
    },
    "tags": []
   },
   "source": [
    "## main 函数："
   ]
  },
  {
   "cell_type": "code",
   "execution_count": 3,
   "id": "baa1debf",
   "metadata": {
    "execution": {
     "iopub.execute_input": "2022-05-06T07:04:10.537180Z",
     "iopub.status.busy": "2022-05-06T07:04:10.536965Z",
     "iopub.status.idle": "2022-05-06T07:04:25.715771Z",
     "shell.execute_reply": "2022-05-06T07:04:25.714961Z"
    },
    "papermill": {
     "duration": 15.188751,
     "end_time": "2022-05-06T07:04:25.718369",
     "exception": false,
     "start_time": "2022-05-06T07:04:10.529618",
     "status": "completed"
    },
    "tags": []
   },
   "outputs": [],
   "source": [
    "from sklearn.model_selection import train_test_split\n",
    "from keras.preprocessing.image import ImageDataGenerator\n",
    "from keras.optimizers import adam_v2\n",
    "\n",
    "w=240\n",
    "h=240\n",
    "c=1\n",
    "\n",
    "## 数据载入、训练集和测试集划分\n",
    "load_img=loader()\n",
    "x_data,y_data=load_img.load('../input/grid-map')\n",
    "x_data=np.array(x_data,dtype='float')/255.0\n",
    "y_data=np.array(y_data,dtype='float')/255.0\n",
    "train_x,test_x,train_y,test_y=train_test_split(x_data,y_data,test_size=0.1,random_state=30)"
   ]
  },
  {
   "cell_type": "code",
   "execution_count": 4,
   "id": "3ba25b10",
   "metadata": {
    "execution": {
     "iopub.execute_input": "2022-05-06T07:04:25.736808Z",
     "iopub.status.busy": "2022-05-06T07:04:25.736560Z",
     "iopub.status.idle": "2022-05-06T07:11:24.535855Z",
     "shell.execute_reply": "2022-05-06T07:11:24.535117Z"
    },
    "papermill": {
     "duration": 418.811708,
     "end_time": "2022-05-06T07:11:24.538401",
     "exception": false,
     "start_time": "2022-05-06T07:04:25.726693",
     "status": "completed"
    },
    "tags": []
   },
   "outputs": [
    {
     "name": "stderr",
     "output_type": "stream",
     "text": [
      "2022-05-06 07:04:25.833576: I tensorflow/stream_executor/cuda/cuda_gpu_executor.cc:937] successful NUMA node read from SysFS had negative value (-1), but there must be at least one NUMA node, so returning NUMA node zero\n",
      "2022-05-06 07:04:25.942571: I tensorflow/stream_executor/cuda/cuda_gpu_executor.cc:937] successful NUMA node read from SysFS had negative value (-1), but there must be at least one NUMA node, so returning NUMA node zero\n",
      "2022-05-06 07:04:25.943384: I tensorflow/stream_executor/cuda/cuda_gpu_executor.cc:937] successful NUMA node read from SysFS had negative value (-1), but there must be at least one NUMA node, so returning NUMA node zero\n",
      "2022-05-06 07:04:25.944596: I tensorflow/core/platform/cpu_feature_guard.cc:142] This TensorFlow binary is optimized with oneAPI Deep Neural Network Library (oneDNN) to use the following CPU instructions in performance-critical operations:  AVX2 AVX512F FMA\n",
      "To enable them in other operations, rebuild TensorFlow with the appropriate compiler flags.\n",
      "2022-05-06 07:04:25.950694: I tensorflow/stream_executor/cuda/cuda_gpu_executor.cc:937] successful NUMA node read from SysFS had negative value (-1), but there must be at least one NUMA node, so returning NUMA node zero\n",
      "2022-05-06 07:04:25.951423: I tensorflow/stream_executor/cuda/cuda_gpu_executor.cc:937] successful NUMA node read from SysFS had negative value (-1), but there must be at least one NUMA node, so returning NUMA node zero\n",
      "2022-05-06 07:04:25.952214: I tensorflow/stream_executor/cuda/cuda_gpu_executor.cc:937] successful NUMA node read from SysFS had negative value (-1), but there must be at least one NUMA node, so returning NUMA node zero\n",
      "2022-05-06 07:04:27.758176: I tensorflow/stream_executor/cuda/cuda_gpu_executor.cc:937] successful NUMA node read from SysFS had negative value (-1), but there must be at least one NUMA node, so returning NUMA node zero\n",
      "2022-05-06 07:04:27.759163: I tensorflow/stream_executor/cuda/cuda_gpu_executor.cc:937] successful NUMA node read from SysFS had negative value (-1), but there must be at least one NUMA node, so returning NUMA node zero\n",
      "2022-05-06 07:04:27.759955: I tensorflow/stream_executor/cuda/cuda_gpu_executor.cc:937] successful NUMA node read from SysFS had negative value (-1), but there must be at least one NUMA node, so returning NUMA node zero\n",
      "2022-05-06 07:04:27.761419: I tensorflow/core/common_runtime/gpu/gpu_device.cc:1510] Created device /job:localhost/replica:0/task:0/device:GPU:0 with 15403 MB memory:  -> device: 0, name: Tesla P100-PCIE-16GB, pci bus id: 0000:00:04.0, compute capability: 6.0\n"
     ]
    },
    {
     "name": "stdout",
     "output_type": "stream",
     "text": [
      "Model: \"model\"\n",
      "_________________________________________________________________\n",
      "Layer (type)                 Output Shape              Param #   \n",
      "=================================================================\n",
      "input_1 (InputLayer)         [(None, 240, 240, 1)]     0         \n",
      "_________________________________________________________________\n",
      "conv2d (Conv2D)              (None, 240, 240, 64)      640       \n",
      "_________________________________________________________________\n",
      "batch_normalization (BatchNo (None, 240, 240, 64)      256       \n",
      "_________________________________________________________________\n",
      "leaky_re_lu (LeakyReLU)      (None, 240, 240, 64)      0         \n",
      "_________________________________________________________________\n",
      "max_pooling2d (MaxPooling2D) (None, 120, 120, 64)      0         \n",
      "_________________________________________________________________\n",
      "conv2d_1 (Conv2D)            (None, 120, 120, 32)      18464     \n",
      "_________________________________________________________________\n",
      "leaky_re_lu_1 (LeakyReLU)    (None, 120, 120, 32)      0         \n",
      "_________________________________________________________________\n",
      "batch_normalization_1 (Batch (None, 120, 120, 32)      128       \n",
      "_________________________________________________________________\n",
      "max_pooling2d_1 (MaxPooling2 (None, 60, 60, 32)        0         \n",
      "_________________________________________________________________\n",
      "conv2d_2 (Conv2D)            (None, 60, 60, 16)        4624      \n",
      "_________________________________________________________________\n",
      "leaky_re_lu_2 (LeakyReLU)    (None, 60, 60, 16)        0         \n",
      "_________________________________________________________________\n",
      "batch_normalization_2 (Batch (None, 60, 60, 16)        64        \n",
      "_________________________________________________________________\n",
      "max_pooling2d_2 (MaxPooling2 (None, 30, 30, 16)        0         \n",
      "_________________________________________________________________\n",
      "conv2d_3 (Conv2D)            (None, 30, 30, 8)         1160      \n",
      "_________________________________________________________________\n",
      "leaky_re_lu_3 (LeakyReLU)    (None, 30, 30, 8)         0         \n",
      "_________________________________________________________________\n",
      "max_pooling2d_3 (MaxPooling2 (None, 15, 15, 8)         0         \n",
      "_________________________________________________________________\n",
      "conv2d_4 (Conv2D)            (None, 15, 15, 8)         584       \n",
      "_________________________________________________________________\n",
      "leaky_re_lu_4 (LeakyReLU)    (None, 15, 15, 8)         0         \n",
      "_________________________________________________________________\n",
      "up_sampling2d (UpSampling2D) (None, 30, 30, 8)         0         \n",
      "_________________________________________________________________\n",
      "conv2d_5 (Conv2D)            (None, 30, 30, 16)        1168      \n",
      "_________________________________________________________________\n",
      "leaky_re_lu_5 (LeakyReLU)    (None, 30, 30, 16)        0         \n",
      "_________________________________________________________________\n",
      "up_sampling2d_1 (UpSampling2 (None, 60, 60, 16)        0         \n",
      "_________________________________________________________________\n",
      "conv2d_6 (Conv2D)            (None, 60, 60, 32)        4640      \n",
      "_________________________________________________________________\n",
      "leaky_re_lu_6 (LeakyReLU)    (None, 60, 60, 32)        0         \n",
      "_________________________________________________________________\n",
      "up_sampling2d_2 (UpSampling2 (None, 120, 120, 32)      0         \n",
      "_________________________________________________________________\n",
      "conv2d_7 (Conv2D)            (None, 120, 120, 64)      18496     \n",
      "_________________________________________________________________\n",
      "leaky_re_lu_7 (LeakyReLU)    (None, 120, 120, 64)      0         \n",
      "_________________________________________________________________\n",
      "up_sampling2d_3 (UpSampling2 (None, 240, 240, 64)      0         \n",
      "_________________________________________________________________\n",
      "conv2d_8 (Conv2D)            (None, 240, 240, 1)       577       \n",
      "=================================================================\n",
      "Total params: 50,801\n",
      "Trainable params: 50,577\n",
      "Non-trainable params: 224\n",
      "_________________________________________________________________\n"
     ]
    },
    {
     "name": "stderr",
     "output_type": "stream",
     "text": [
      "2022-05-06 07:04:29.986965: I tensorflow/compiler/mlir/mlir_graph_optimization_pass.cc:185] None of the MLIR Optimization Passes are enabled (registered 2)\n"
     ]
    },
    {
     "name": "stdout",
     "output_type": "stream",
     "text": [
      "Epoch 1/50\n"
     ]
    },
    {
     "name": "stderr",
     "output_type": "stream",
     "text": [
      "2022-05-06 07:04:32.031440: I tensorflow/stream_executor/cuda/cuda_dnn.cc:369] Loaded cuDNN version 8005\n"
     ]
    },
    {
     "name": "stdout",
     "output_type": "stream",
     "text": [
      "429/429 [==============================] - 16s 20ms/step - loss: 7.0540 - val_loss: 2.1103\n",
      "Epoch 2/50\n",
      "429/429 [==============================] - 8s 19ms/step - loss: 2.9307 - val_loss: 2.3755\n",
      "Epoch 3/50\n",
      "429/429 [==============================] - 8s 19ms/step - loss: 2.3301 - val_loss: 2.0813\n",
      "Epoch 4/50\n",
      "429/429 [==============================] - 8s 19ms/step - loss: 1.7721 - val_loss: 1.6346\n",
      "Epoch 5/50\n",
      "429/429 [==============================] - 8s 19ms/step - loss: 1.4423 - val_loss: 1.3874\n",
      "Epoch 6/50\n",
      "429/429 [==============================] - 8s 19ms/step - loss: 1.2885 - val_loss: 1.2579\n",
      "Epoch 7/50\n",
      "429/429 [==============================] - 8s 18ms/step - loss: 1.2053 - val_loss: 1.1939\n",
      "Epoch 8/50\n",
      "429/429 [==============================] - 8s 19ms/step - loss: 1.1480 - val_loss: 1.1758\n",
      "Epoch 9/50\n",
      "429/429 [==============================] - 8s 19ms/step - loss: 1.1005 - val_loss: 1.1100\n",
      "Epoch 10/50\n",
      "429/429 [==============================] - 8s 19ms/step - loss: 1.0669 - val_loss: 1.0673\n",
      "Epoch 11/50\n",
      "429/429 [==============================] - 8s 19ms/step - loss: 1.0405 - val_loss: 1.0376\n",
      "Epoch 12/50\n",
      "429/429 [==============================] - 8s 19ms/step - loss: 1.0168 - val_loss: 0.9827\n",
      "Epoch 13/50\n",
      "429/429 [==============================] - 8s 19ms/step - loss: 1.0189 - val_loss: 1.0298\n",
      "Epoch 14/50\n",
      "429/429 [==============================] - 8s 19ms/step - loss: 1.0095 - val_loss: 0.9994\n",
      "Epoch 15/50\n",
      "429/429 [==============================] - 8s 19ms/step - loss: 0.9792 - val_loss: 0.9773\n",
      "Epoch 16/50\n",
      "429/429 [==============================] - 8s 19ms/step - loss: 0.9716 - val_loss: 0.9778\n",
      "Epoch 17/50\n",
      "429/429 [==============================] - 8s 19ms/step - loss: 0.9515 - val_loss: 0.9497\n",
      "Epoch 18/50\n",
      "429/429 [==============================] - 8s 19ms/step - loss: 0.9412 - val_loss: 0.9940\n",
      "Epoch 19/50\n",
      "429/429 [==============================] - 8s 19ms/step - loss: 0.9410 - val_loss: 0.9387\n",
      "Epoch 20/50\n",
      "429/429 [==============================] - 8s 19ms/step - loss: 0.9331 - val_loss: 0.9317\n",
      "Epoch 21/50\n",
      "429/429 [==============================] - 8s 19ms/step - loss: 0.9403 - val_loss: 0.9451\n",
      "Epoch 22/50\n",
      "429/429 [==============================] - 8s 19ms/step - loss: 0.9322 - val_loss: 0.9156\n",
      "Epoch 23/50\n",
      "429/429 [==============================] - 8s 19ms/step - loss: 0.9309 - val_loss: 0.9077\n",
      "Epoch 24/50\n",
      "429/429 [==============================] - 8s 19ms/step - loss: 0.9267 - val_loss: 0.9315\n",
      "Epoch 25/50\n",
      "429/429 [==============================] - 8s 19ms/step - loss: 0.9265 - val_loss: 0.9174\n",
      "Epoch 26/50\n",
      "429/429 [==============================] - 8s 19ms/step - loss: 0.9460 - val_loss: 0.9418\n",
      "Epoch 27/50\n",
      "429/429 [==============================] - 8s 19ms/step - loss: 0.9357 - val_loss: 0.9631\n",
      "Epoch 28/50\n",
      "429/429 [==============================] - 8s 19ms/step - loss: 0.9524 - val_loss: 0.9674\n",
      "Epoch 29/50\n",
      "429/429 [==============================] - 8s 19ms/step - loss: 0.9660 - val_loss: 0.9617\n",
      "Epoch 30/50\n",
      "429/429 [==============================] - 8s 19ms/step - loss: 1.0459 - val_loss: 1.4007\n",
      "Epoch 31/50\n",
      "429/429 [==============================] - 8s 19ms/step - loss: 0.9369 - val_loss: 1.1723\n",
      "Epoch 32/50\n",
      "429/429 [==============================] - 8s 19ms/step - loss: 0.6614 - val_loss: 1.9048\n",
      "Epoch 33/50\n",
      "429/429 [==============================] - 8s 19ms/step - loss: 0.7032 - val_loss: 12.2821\n",
      "Epoch 34/50\n",
      "429/429 [==============================] - 8s 19ms/step - loss: 0.7104 - val_loss: 1.5888\n",
      "Epoch 35/50\n",
      "429/429 [==============================] - 8s 19ms/step - loss: 0.5246 - val_loss: 3.9492\n",
      "Epoch 36/50\n",
      "429/429 [==============================] - 8s 18ms/step - loss: 0.9030 - val_loss: 2.8225\n",
      "Epoch 37/50\n",
      "429/429 [==============================] - 8s 19ms/step - loss: 0.6164 - val_loss: 1.6875\n",
      "Epoch 38/50\n",
      "429/429 [==============================] - 8s 19ms/step - loss: 0.6385 - val_loss: 1.5123\n",
      "Epoch 39/50\n",
      "429/429 [==============================] - 8s 19ms/step - loss: 0.5109 - val_loss: 2.3133\n",
      "Epoch 40/50\n",
      "429/429 [==============================] - 8s 18ms/step - loss: 0.5046 - val_loss: 4.8520\n",
      "Epoch 41/50\n",
      "429/429 [==============================] - 8s 19ms/step - loss: 0.8086 - val_loss: 5.5089\n",
      "Epoch 42/50\n",
      "429/429 [==============================] - 8s 19ms/step - loss: 1.0685 - val_loss: 0.7071\n",
      "Epoch 43/50\n",
      "429/429 [==============================] - 8s 19ms/step - loss: 1.4032 - val_loss: 1.9131\n",
      "Epoch 44/50\n",
      "429/429 [==============================] - 8s 18ms/step - loss: 0.5429 - val_loss: 0.4734\n",
      "Epoch 45/50\n",
      "429/429 [==============================] - 8s 19ms/step - loss: 0.4404 - val_loss: 2.2959\n",
      "Epoch 46/50\n",
      "429/429 [==============================] - 8s 19ms/step - loss: 0.4509 - val_loss: 1.8758\n",
      "Epoch 47/50\n",
      "429/429 [==============================] - 8s 19ms/step - loss: 0.4594 - val_loss: 3.6409\n",
      "Epoch 48/50\n",
      "429/429 [==============================] - 8s 18ms/step - loss: 0.8403 - val_loss: 3.1281\n",
      "Epoch 49/50\n",
      "429/429 [==============================] - 8s 19ms/step - loss: 0.9604 - val_loss: 1.4898\n",
      "Epoch 50/50\n",
      "429/429 [==============================] - 8s 19ms/step - loss: 0.4920 - val_loss: 2.6498\n"
     ]
    },
    {
     "name": "stderr",
     "output_type": "stream",
     "text": [
      "2022-05-06 07:11:22.068582: W tensorflow/python/util/util.cc:348] Sets are not currently considered sequences, but this may change in the future, so consider avoiding using them.\n"
     ]
    }
   ],
   "source": [
    "## 模型载入\n",
    "model=Models(w,h,c)\n",
    "auto_encoder=model.Arch2()\n",
    "auto_encoder.summary()\n",
    "\n",
    "opt= adam_v2.Adam(learning_rate=0.001,decay=0.001/100)\n",
    "\n",
    "auto_encoder.compile(optimizer= opt,loss='binary_crossentropy')\n",
    "auto_encoder.fit(train_x,train_y,batch_size=4,shuffle='true',epochs=50,validation_data=(test_x,test_y),verbose=1)\n",
    "auto_encoder.save('noise.MODEL')\n"
   ]
  },
  {
   "cell_type": "code",
   "execution_count": null,
   "id": "11758735",
   "metadata": {
    "papermill": {
     "duration": 2.458627,
     "end_time": "2022-05-06T07:11:29.212190",
     "exception": false,
     "start_time": "2022-05-06T07:11:26.753563",
     "status": "completed"
    },
    "tags": []
   },
   "outputs": [],
   "source": []
  }
 ],
 "metadata": {
  "kernelspec": {
   "display_name": "Python 3",
   "language": "python",
   "name": "python3"
  },
  "language_info": {
   "codemirror_mode": {
    "name": "ipython",
    "version": 3
   },
   "file_extension": ".py",
   "mimetype": "text/x-python",
   "name": "python",
   "nbconvert_exporter": "python",
   "pygments_lexer": "ipython3",
   "version": "3.7.12"
  },
  "papermill": {
   "default_parameters": {},
   "duration": 456.710008,
   "end_time": "2022-05-06T07:11:34.219866",
   "environment_variables": {},
   "exception": null,
   "input_path": "__notebook__.ipynb",
   "output_path": "__notebook__.ipynb",
   "parameters": {},
   "start_time": "2022-05-06T07:03:57.509858",
   "version": "2.3.4"
  }
 },
 "nbformat": 4,
 "nbformat_minor": 5
}
