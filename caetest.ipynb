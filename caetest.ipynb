{
 "cells": [
  {
   "cell_type": "markdown",
   "id": "db630e29",
   "metadata": {
    "papermill": {
     "duration": 0.017505,
     "end_time": "2022-05-05T12:18:24.274709",
     "exception": false,
     "start_time": "2022-05-05T12:18:24.257204",
     "status": "completed"
    },
    "tags": []
   },
   "source": [
    "### 1. data loader "
   ]
  },
  {
   "cell_type": "code",
   "execution_count": 1,
   "id": "8d8a6af5",
   "metadata": {
    "execution": {
     "iopub.execute_input": "2022-05-05T12:18:24.308331Z",
     "iopub.status.busy": "2022-05-05T12:18:24.307889Z",
     "iopub.status.idle": "2022-05-05T12:18:29.962338Z",
     "shell.execute_reply": "2022-05-05T12:18:29.961198Z"
    },
    "papermill": {
     "duration": 5.67541,
     "end_time": "2022-05-05T12:18:29.965742",
     "exception": false,
     "start_time": "2022-05-05T12:18:24.290332",
     "status": "completed"
    },
    "tags": []
   },
   "outputs": [],
   "source": [
    "import os\n",
    "import cv2\n",
    "import matplotlib.pyplot as plt\n",
    "import numpy as np\n",
    "\n",
    "\n",
    "from keras.preprocessing.image import img_to_array\n",
    "class loader:\n",
    "    def __init__(self):\n",
    "        self.x_data=[]\n",
    "        self.y_data=[]\n",
    "\n",
    "    def load(self,path):\n",
    "        files=os.listdir(path)\n",
    "        for i in files:\n",
    "            img=cv2.imread(path+'/'+i,cv2.IMREAD_GRAYSCALE)# 400 x 600\n",
    "            img=cv2.resize(img,(240,240))\n",
    "            #img=cv2.resize(img,(240,240))\n",
    "            #print(img.shape)\n",
    "            self.y_data.append(img_to_array(img))\n",
    "            self.x_data.append(img_to_array(img))\n",
    "        return self.x_data,self.y_data\n"
   ]
  },
  {
   "cell_type": "code",
   "execution_count": 2,
   "id": "84a8c8f2",
   "metadata": {
    "execution": {
     "iopub.execute_input": "2022-05-05T12:18:29.986592Z",
     "iopub.status.busy": "2022-05-05T12:18:29.986257Z",
     "iopub.status.idle": "2022-05-05T12:18:30.119005Z",
     "shell.execute_reply": "2022-05-05T12:18:30.118024Z"
    },
    "papermill": {
     "duration": 0.147548,
     "end_time": "2022-05-05T12:18:30.122468",
     "exception": false,
     "start_time": "2022-05-05T12:18:29.974920",
     "status": "completed"
    },
    "tags": []
   },
   "outputs": [
    {
     "data": {
      "image/png": "[encoded data removed]",
      "text/plain": [
       "<Figure size 432x288 with 1 Axes>"
      ]
     },
     "metadata": {},
     "output_type": "display_data"
    }
   ],
   "source": [
    "\n",
    "img=cv2.imread('../input/grid-map/111202511.png',cv2.IMREAD_GRAYSCALE)# 400 x 600\n",
    "img=cv2.resize(img,(240,240)) # 宽 x 高\n",
    "plt.imshow(img, cmap=plt.cm.gray)\n",
    "plt.xticks([])  # 去掉x轴\n",
    "plt.yticks([])  # 去掉y轴\n",
    "plt.axis('off')  # 去掉坐标轴\n",
    "plt.show()"
   ]
  },
  {
   "cell_type": "code",
   "execution_count": 3,
   "id": "4478d1dc",
   "metadata": {
    "execution": {
     "iopub.execute_input": "2022-05-05T12:18:30.162548Z",
     "iopub.status.busy": "2022-05-05T12:18:30.162109Z",
     "iopub.status.idle": "2022-05-05T12:18:30.206239Z",
     "shell.execute_reply": "2022-05-05T12:18:30.205311Z"
    },
    "papermill": {
     "duration": 0.066128,
     "end_time": "2022-05-05T12:18:30.208468",
     "exception": false,
     "start_time": "2022-05-05T12:18:30.142340",
     "status": "completed"
    },
    "tags": []
   },
   "outputs": [],
   "source": [
    "from keras.models import Model\n",
    "from keras.layers import Conv2D,UpSampling2D,MaxPooling2D\n",
    "from keras.layers import Input\n",
    "from keras.layers import LeakyReLU\n",
    "from keras.layers import BatchNormalization\n",
    "from keras import regularizers\n",
    "\n",
    "class Models:\n",
    "    def __init__(self,w,h,c):\n",
    "        self.w=w\n",
    "        self.h=h\n",
    "        self.c=c\n",
    "    def Arch1(self):\n",
    "        inp=Input(shape=(self.w,self.h,self.c))\n",
    "        enc=Conv2D(64,(3,3),padding='same')(inp)\n",
    "        enc=BatchNormalization()(enc)\n",
    "        enc=LeakyReLU(alpha=0.1)(enc)\n",
    "        enc=MaxPooling2D(pool_size=(2,2))(enc)\n",
    "        enc=Conv2D(32,(3,3),padding='same')(enc)\n",
    "        enc=LeakyReLU(alpha=0.1)(enc)\n",
    "        enc=BatchNormalization()(enc)\n",
    "        enc=MaxPooling2D(pool_size=(2,2))(enc)\n",
    "        enc=Conv2D(16,(3,3),padding='same')(enc)\n",
    "        enc=LeakyReLU(alpha=0.1)(enc)\n",
    "        enc=BatchNormalization()(enc)\n",
    "        enc=MaxPooling2D(pool_size=(2,2))(enc)\n",
    "        enc=Conv2D(8,(3,3),padding='same')(enc)\n",
    "        enc=LeakyReLU(alpha=0.1)(enc)\n",
    "        enc=MaxPooling2D(pool_size=(2,2))(enc)\n",
    "\n",
    "\n",
    "        dec=Conv2D(8,(3,3),padding='same')(enc)\n",
    "        dec=LeakyReLU(alpha=0.1)(dec)\n",
    "        dec=UpSampling2D((2,2))(dec)\n",
    "        dec=Conv2D(16,(3,3),padding='same')(dec)\n",
    "        dec=LeakyReLU(alpha=0.1)(dec)\n",
    "        dec=UpSampling2D((2,2))(dec)\n",
    "        dec=Conv2D(32,(3,3),padding='same')(dec)\n",
    "        dec=LeakyReLU(alpha=0.1)(dec)\n",
    "        dec=UpSampling2D((2,2))(dec)\n",
    "        dec=Conv2D(64,(3,3),padding='same')(dec)\n",
    "        dec=LeakyReLU(alpha=0.1)(dec)\n",
    "        dec=UpSampling2D((2,2))(dec)\n",
    "        final=Conv2D(1,(3,3),padding='same',activation='sigmoid')(dec)\n",
    "        auto=Model(inp,final)\n",
    "        return auto\n",
    "\n",
    "    def Arch2(self):\n",
    "        inp=Input(shape=(self.w,self.h,self.c))\n",
    "        enc=Conv2D(64,(3,3),padding='same',activity_regularizer=regularizers.l1(10e-5))(inp)\n",
    "        enc=BatchNormalization()(enc)\n",
    "        enc=LeakyReLU(alpha=0.1)(enc)\n",
    "        enc=MaxPooling2D(pool_size=(2,2))(enc)\n",
    "        enc=Conv2D(32,(3,3),padding='same',activity_regularizer=regularizers.l1(10e-5))(enc)\n",
    "        enc=LeakyReLU(alpha=0.1)(enc)\n",
    "        enc=BatchNormalization()(enc)\n",
    "        enc=MaxPooling2D(pool_size=(2,2))(enc)\n",
    "        enc=Conv2D(16,(3,3),padding='same',activity_regularizer=regularizers.l1(10e-5))(enc)\n",
    "        enc=LeakyReLU(alpha=0.1)(enc)\n",
    "        enc=BatchNormalization()(enc)\n",
    "        enc=MaxPooling2D(pool_size=(2,2),activity_regularizer=regularizers.l1(10e-5))(enc)\n",
    "        enc=Conv2D(8,(3,3),padding='same')(enc)\n",
    "        enc=LeakyReLU(alpha=0.1)(enc)\n",
    "        enc=MaxPooling2D(pool_size=(2,2))(enc)\n",
    "\n",
    "\n",
    "        dec=Conv2D(8,(3,3),padding='same',activity_regularizer=regularizers.l1(10e-5))(enc)\n",
    "        dec=LeakyReLU(alpha=0.1)(dec)\n",
    "        dec=UpSampling2D((2,2))(dec)\n",
    "        dec=Conv2D(16,(3,3),padding='same',activity_regularizer=regularizers.l1(10e-5))(dec)\n",
    "        dec=LeakyReLU(alpha=0.1)(dec)\n",
    "        dec=UpSampling2D((2,2))(dec)\n",
    "        dec=Conv2D(32,(3,3),padding='same',activity_regularizer=regularizers.l1(10e-5))(dec)\n",
    "        dec=LeakyReLU(alpha=0.1)(dec)\n",
    "        dec=UpSampling2D((2,2))(dec)\n",
    "        dec=Conv2D(64,(3,3),padding='same',activity_regularizer=regularizers.l1(10e-5))(dec)\n",
    "        dec=LeakyReLU(alpha=0.1)(dec)\n",
    "        dec=UpSampling2D((2,2))(dec)\n",
    "        final=Conv2D(1,(3,3),padding='same',activation='sigmoid')(dec)\n",
    "        auto=Model(inp,final)\n",
    "        return auto\n"
   ]
  },
  {
   "cell_type": "markdown",
   "id": "b3b12357",
   "metadata": {
    "papermill": {
     "duration": 0.009942,
     "end_time": "2022-05-05T12:18:30.227910",
     "exception": false,
     "start_time": "2022-05-05T12:18:30.217968",
     "status": "completed"
    },
    "tags": []
   },
   "source": [
    "## main 函数："
   ]
  },
  {
   "cell_type": "code",
   "execution_count": 4,
   "id": "79c3d156",
   "metadata": {
    "execution": {
     "iopub.execute_input": "2022-05-05T12:18:30.248793Z",
     "iopub.status.busy": "2022-05-05T12:18:30.248076Z",
     "iopub.status.idle": "2022-05-05T12:19:06.945507Z",
     "shell.execute_reply": "2022-05-05T12:19:06.944319Z"
    },
    "papermill": {
     "duration": 36.710944,
     "end_time": "2022-05-05T12:19:06.948334",
     "exception": false,
     "start_time": "2022-05-05T12:18:30.237390",
     "status": "completed"
    },
    "tags": []
   },
   "outputs": [],
   "source": [
    "from sklearn.model_selection import train_test_split\n",
    "from keras.preprocessing.image import ImageDataGenerator\n",
    "from keras.optimizers import adam_v2\n",
    "\n",
    "w=240\n",
    "h=240\n",
    "c=1\n",
    "\n",
    "## 数据载入、训练集和测试集划分\n",
    "load_img=loader()\n",
    "x_data,y_data=load_img.load('../input/grid-map')\n",
    "x_data=np.array(x_data,dtype='float')/255.0\n",
    "y_data=np.array(y_data,dtype='float')/255.0\n",
    "train_x,test_x,train_y,test_y=train_test_split(x_data,y_data,test_size=0.1,random_state=30)"
   ]
  },
  {
   "cell_type": "code",
   "execution_count": 5,
   "id": "fc231c57",
   "metadata": {
    "execution": {
     "iopub.execute_input": "2022-05-05T12:19:06.969953Z",
     "iopub.status.busy": "2022-05-05T12:19:06.969670Z",
     "iopub.status.idle": "2022-05-05T12:23:35.890599Z",
     "shell.execute_reply": "2022-05-05T12:23:35.889657Z"
    },
    "papermill": {
     "duration": 268.934906,
     "end_time": "2022-05-05T12:23:35.893599",
     "exception": false,
     "start_time": "2022-05-05T12:19:06.958693",
     "status": "completed"
    },
    "tags": []
   },
   "outputs": [
    {
     "name": "stderr",
     "output_type": "stream",
     "text": [
      "2022-05-05 12:19:07.092204: I tensorflow/stream_executor/cuda/cuda_gpu_executor.cc:937] successful NUMA node read from SysFS had negative value (-1), but there must be at least one NUMA node, so returning NUMA node zero\n",
      "2022-05-05 12:19:07.200317: I tensorflow/stream_executor/cuda/cuda_gpu_executor.cc:937] successful NUMA node read from SysFS had negative value (-1), but there must be at least one NUMA node, so returning NUMA node zero\n",
      "2022-05-05 12:19:07.201462: I tensorflow/stream_executor/cuda/cuda_gpu_executor.cc:937] successful NUMA node read from SysFS had negative value (-1), but there must be at least one NUMA node, so returning NUMA node zero\n",
      "2022-05-05 12:19:07.203196: I tensorflow/core/platform/cpu_feature_guard.cc:142] This TensorFlow binary is optimized with oneAPI Deep Neural Network Library (oneDNN) to use the following CPU instructions in performance-critical operations:  AVX2 FMA\n",
      "To enable them in other operations, rebuild TensorFlow with the appropriate compiler flags.\n",
      "2022-05-05 12:19:07.208328: I tensorflow/stream_executor/cuda/cuda_gpu_executor.cc:937] successful NUMA node read from SysFS had negative value (-1), but there must be at least one NUMA node, so returning NUMA node zero\n",
      "2022-05-05 12:19:07.209556: I tensorflow/stream_executor/cuda/cuda_gpu_executor.cc:937] successful NUMA node read from SysFS had negative value (-1), but there must be at least one NUMA node, so returning NUMA node zero\n",
      "2022-05-05 12:19:07.210610: I tensorflow/stream_executor/cuda/cuda_gpu_executor.cc:937] successful NUMA node read from SysFS had negative value (-1), but there must be at least one NUMA node, so returning NUMA node zero\n",
      "2022-05-05 12:19:09.572717: I tensorflow/stream_executor/cuda/cuda_gpu_executor.cc:937] successful NUMA node read from SysFS had negative value (-1), but there must be at least one NUMA node, so returning NUMA node zero\n",
      "2022-05-05 12:19:09.573833: I tensorflow/stream_executor/cuda/cuda_gpu_executor.cc:937] successful NUMA node read from SysFS had negative value (-1), but there must be at least one NUMA node, so returning NUMA node zero\n",
      "2022-05-05 12:19:09.574826: I tensorflow/stream_executor/cuda/cuda_gpu_executor.cc:937] successful NUMA node read from SysFS had negative value (-1), but there must be at least one NUMA node, so returning NUMA node zero\n",
      "2022-05-05 12:19:09.576562: I tensorflow/core/common_runtime/gpu/gpu_device.cc:1510] Created device /job:localhost/replica:0/task:0/device:GPU:0 with 15403 MB memory:  -> device: 0, name: Tesla P100-PCIE-16GB, pci bus id: 0000:00:04.0, compute capability: 6.0\n"
     ]
    },
    {
     "name": "stdout",
     "output_type": "stream",
     "text": [
      "Model: \"model\"\n",
      "_________________________________________________________________\n",
      "Layer (type)                 Output Shape              Param #   \n",
      "=================================================================\n",
      "input_1 (InputLayer)         [(None, 240, 240, 1)]     0         \n",
      "_________________________________________________________________\n",
      "conv2d (Conv2D)              (None, 240, 240, 64)      640       \n",
      "_________________________________________________________________\n",
      "batch_normalization (BatchNo (None, 240, 240, 64)      256       \n",
      "_________________________________________________________________\n",
      "leaky_re_lu (LeakyReLU)      (None, 240, 240, 64)      0         \n",
      "_________________________________________________________________\n",
      "max_pooling2d (MaxPooling2D) (None, 120, 120, 64)      0         \n",
      "_________________________________________________________________\n",
      "conv2d_1 (Conv2D)            (None, 120, 120, 32)      18464     \n",
      "_________________________________________________________________\n",
      "leaky_re_lu_1 (LeakyReLU)    (None, 120, 120, 32)      0         \n",
      "_________________________________________________________________\n",
      "batch_normalization_1 (Batch (None, 120, 120, 32)      128       \n",
      "_________________________________________________________________\n",
      "max_pooling2d_1 (MaxPooling2 (None, 60, 60, 32)        0         \n",
      "_________________________________________________________________\n",
      "conv2d_2 (Conv2D)            (None, 60, 60, 16)        4624      \n",
      "_________________________________________________________________\n",
      "leaky_re_lu_2 (LeakyReLU)    (None, 60, 60, 16)        0         \n",
      "_________________________________________________________________\n",
      "batch_normalization_2 (Batch (None, 60, 60, 16)        64        \n",
      "_________________________________________________________________\n",
      "max_pooling2d_2 (MaxPooling2 (None, 30, 30, 16)        0         \n",
      "_________________________________________________________________\n",
      "conv2d_3 (Conv2D)            (None, 30, 30, 8)         1160      \n",
      "_________________________________________________________________\n",
      "leaky_re_lu_3 (LeakyReLU)    (None, 30, 30, 8)         0         \n",
      "_________________________________________________________________\n",
      "max_pooling2d_3 (MaxPooling2 (None, 15, 15, 8)         0         \n",
      "_________________________________________________________________\n",
      "conv2d_4 (Conv2D)            (None, 15, 15, 8)         584       \n",
      "_________________________________________________________________\n",
      "leaky_re_lu_4 (LeakyReLU)    (None, 15, 15, 8)         0         \n",
      "_________________________________________________________________\n",
      "up_sampling2d (UpSampling2D) (None, 30, 30, 8)         0         \n",
      "_________________________________________________________________\n",
      "conv2d_5 (Conv2D)            (None, 30, 30, 16)        1168      \n",
      "_________________________________________________________________\n",
      "leaky_re_lu_5 (LeakyReLU)    (None, 30, 30, 16)        0         \n",
      "_________________________________________________________________\n",
      "up_sampling2d_1 (UpSampling2 (None, 60, 60, 16)        0         \n",
      "_________________________________________________________________\n",
      "conv2d_6 (Conv2D)            (None, 60, 60, 32)        4640      \n",
      "_________________________________________________________________\n",
      "leaky_re_lu_6 (LeakyReLU)    (None, 60, 60, 32)        0         \n",
      "_________________________________________________________________\n",
      "up_sampling2d_2 (UpSampling2 (None, 120, 120, 32)      0         \n",
      "_________________________________________________________________\n",
      "conv2d_7 (Conv2D)            (None, 120, 120, 64)      18496     \n",
      "_________________________________________________________________\n",
      "leaky_re_lu_7 (LeakyReLU)    (None, 120, 120, 64)      0         \n",
      "_________________________________________________________________\n",
      "up_sampling2d_3 (UpSampling2 (None, 240, 240, 64)      0         \n",
      "_________________________________________________________________\n",
      "conv2d_8 (Conv2D)            (None, 240, 240, 1)       577       \n",
      "=================================================================\n",
      "Total params: 50,801\n",
      "Trainable params: 50,577\n",
      "Non-trainable params: 224\n",
      "_________________________________________________________________\n"
     ]
    },
    {
     "name": "stderr",
     "output_type": "stream",
     "text": [
      "2022-05-05 12:19:10.550708: W tensorflow/core/framework/cpu_allocator_impl.cc:80] Allocation of 748569600 exceeds 10% of free system memory.\n",
      "2022-05-05 12:19:11.934531: W tensorflow/core/framework/cpu_allocator_impl.cc:80] Allocation of 748569600 exceeds 10% of free system memory.\n",
      "2022-05-05 12:19:12.758767: W tensorflow/core/framework/cpu_allocator_impl.cc:80] Allocation of 748569600 exceeds 10% of free system memory.\n",
      "2022-05-05 12:19:13.298714: W tensorflow/core/framework/cpu_allocator_impl.cc:80] Allocation of 748569600 exceeds 10% of free system memory.\n",
      "2022-05-05 12:19:13.917122: I tensorflow/compiler/mlir/mlir_graph_optimization_pass.cc:185] None of the MLIR Optimization Passes are enabled (registered 2)\n"
     ]
    },
    {
     "name": "stdout",
     "output_type": "stream",
     "text": [
      "Epoch 1/15\n"
     ]
    },
    {
     "name": "stderr",
     "output_type": "stream",
     "text": [
      "2022-05-05 12:19:16.300035: I tensorflow/stream_executor/cuda/cuda_dnn.cc:369] Loaded cuDNN version 8005\n"
     ]
    },
    {
     "name": "stdout",
     "output_type": "stream",
     "text": [
      "813/813 [==============================] - 26s 21ms/step - loss: 76.9349 - val_loss: 63.1143\n",
      "Epoch 2/15\n",
      "813/813 [==============================] - 16s 20ms/step - loss: 55.6686 - val_loss: 48.4882\n",
      "Epoch 3/15\n",
      "813/813 [==============================] - 16s 20ms/step - loss: 43.5459 - val_loss: 39.4804\n",
      "Epoch 4/15\n",
      "813/813 [==============================] - 16s 20ms/step - loss: 36.0755 - val_loss: 33.5570\n",
      "Epoch 5/15\n",
      "813/813 [==============================] - 17s 20ms/step - loss: 31.2241 - val_loss: 29.1441\n",
      "Epoch 6/15\n",
      "813/813 [==============================] - 16s 20ms/step - loss: 27.2480 - val_loss: 25.5520\n",
      "Epoch 7/15\n",
      "813/813 [==============================] - 17s 20ms/step - loss: 23.9815 - val_loss: 22.5907\n",
      "Epoch 8/15\n",
      "813/813 [==============================] - 16s 20ms/step - loss: 21.2426 - val_loss: 20.1491\n",
      "Epoch 9/15\n",
      "813/813 [==============================] - 17s 21ms/step - loss: 18.9886 - val_loss: 18.1639\n",
      "Epoch 10/15\n",
      "813/813 [==============================] - 16s 20ms/step - loss: 17.1495 - val_loss: 16.5058\n",
      "Epoch 11/15\n",
      "813/813 [==============================] - 17s 21ms/step - loss: 15.6595 - val_loss: 15.1730\n",
      "Epoch 12/15\n",
      "813/813 [==============================] - 16s 20ms/step - loss: 14.5181 - val_loss: 14.2295\n",
      "Epoch 13/15\n",
      "813/813 [==============================] - 17s 21ms/step - loss: 13.6211 - val_loss: 13.4613\n",
      "Epoch 14/15\n",
      "813/813 [==============================] - 16s 20ms/step - loss: 12.9569 - val_loss: 12.8378\n",
      "Epoch 15/15\n",
      "813/813 [==============================] - 17s 21ms/step - loss: 12.4285 - val_loss: 12.3816\n"
     ]
    },
    {
     "name": "stderr",
     "output_type": "stream",
     "text": [
      "2022-05-05 12:23:32.872169: W tensorflow/python/util/util.cc:348] Sets are not currently considered sequences, but this may change in the future, so consider avoiding using them.\n"
     ]
    }
   ],
   "source": [
    "## 模型载入\n",
    "model=Models(w,h,c)\n",
    "auto_encoder=model.Arch2()\n",
    "auto_encoder.summary()\n",
    "\n",
    "auto_encoder.compile(optimizer='adadelta',loss='binary_crossentropy')\n",
    "auto_encoder.fit(train_x,train_y,batch_size=4,shuffle='true',epochs=15,validation_data=(test_x,test_y),verbose=1)\n",
    "auto_encoder.save('noise.MODEL')\n",
    "\n",
    "opt=adam_v2.Adam(learning_rate=0.001,decay=0.001/50)\n"
   ]
  },
  {
   "cell_type": "code",
   "execution_count": null,
   "id": "6748567b",
   "metadata": {
    "papermill": {
     "duration": 1.698843,
     "end_time": "2022-05-05T12:23:39.235954",
     "exception": false,
     "start_time": "2022-05-05T12:23:37.537111",
     "status": "completed"
    },
    "tags": []
   },
   "outputs": [],
   "source": []
  }
 ],
 "metadata": {
  "kernelspec": {
   "display_name": "Python 3",
   "language": "python",
   "name": "python3"
  },
  "language_info": {
   "codemirror_mode": {
    "name": "ipython",
    "version": 3
   },
   "file_extension": ".py",
   "mimetype": "text/x-python",
   "name": "python",
   "nbconvert_exporter": "python",
   "pygments_lexer": "ipython3",
   "version": "3.7.12"
  },
  "papermill": {
   "default_parameters": {},
   "duration": 329.916076,
   "end_time": "2022-05-05T12:23:43.910721",
   "environment_variables": {},
   "exception": null,
   "input_path": "__notebook__.ipynb",
   "output_path": "__notebook__.ipynb",
   "parameters": {},
   "start_time": "2022-05-05T12:18:13.994645",
   "version": "2.3.4"
  }
 },
 "nbformat": 4,
 "nbformat_minor": 5
}
