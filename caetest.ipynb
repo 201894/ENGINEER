{
 "cells": [
  {
   "cell_type": "markdown",
   "id": "9e3a87d2",
   "metadata": {
    "papermill": {
     "duration": 0.014663,
     "end_time": "2022-05-05T13:08:42.273158",
     "exception": false,
     "start_time": "2022-05-05T13:08:42.258495",
     "status": "completed"
    },
    "tags": []
   },
   "source": [
    "### 1. data loader "
   ]
  },
  {
   "cell_type": "code",
   "execution_count": 1,
   "id": "15203153",
   "metadata": {
    "execution": {
     "iopub.execute_input": "2022-05-05T13:08:42.295459Z",
     "iopub.status.busy": "2022-05-05T13:08:42.294596Z",
     "iopub.status.idle": "2022-05-05T13:08:47.617737Z",
     "shell.execute_reply": "2022-05-05T13:08:47.616979Z"
    },
    "papermill": {
     "duration": 5.335879,
     "end_time": "2022-05-05T13:08:47.620235",
     "exception": false,
     "start_time": "2022-05-05T13:08:42.284356",
     "status": "completed"
    },
    "tags": []
   },
   "outputs": [],
   "source": [
    "import os\n",
    "import cv2\n",
    "import matplotlib.pyplot as plt\n",
    "import numpy as np\n",
    "\n",
    "\n",
    "from keras.preprocessing.image import img_to_array\n",
    "class loader:\n",
    "    def __init__(self):\n",
    "        self.x_data=[]\n",
    "        self.y_data=[]\n",
    "\n",
    "    def load(self,path):\n",
    "        files=os.listdir(path)\n",
    "        for i in files:\n",
    "            img=cv2.imread(path+'/'+i,cv2.IMREAD_GRAYSCALE)# 400 x 600\n",
    "            img=cv2.resize(img,(240,240))\n",
    "            #img=cv2.resize(img,(240,240))\n",
    "            #print(img.shape)\n",
    "            self.y_data.append(img_to_array(img))\n",
    "            self.x_data.append(img_to_array(img))\n",
    "        return self.x_data,self.y_data\n"
   ]
  },
  {
   "cell_type": "code",
   "execution_count": 2,
   "id": "20073e4b",
   "metadata": {
    "execution": {
     "iopub.execute_input": "2022-05-05T13:08:47.636788Z",
     "iopub.status.busy": "2022-05-05T13:08:47.636553Z",
     "iopub.status.idle": "2022-05-05T13:08:47.753634Z",
     "shell.execute_reply": "2022-05-05T13:08:47.752745Z"
    },
    "papermill": {
     "duration": 0.128401,
     "end_time": "2022-05-05T13:08:47.756296",
     "exception": false,
     "start_time": "2022-05-05T13:08:47.627895",
     "status": "completed"
    },
    "tags": []
   },
   "outputs": [
    {
     "data": {
      "image/png": "[encoded data removed]",
      "text/plain": [
       "<Figure size 432x288 with 1 Axes>"
      ]
     },
     "metadata": {},
     "output_type": "display_data"
    }
   ],
   "source": [
    "\n",
    "img=cv2.imread('../input/grid-map/111202511.png',cv2.IMREAD_GRAYSCALE)# 400 x 600\n",
    "img=cv2.resize(img,(240,240)) # 宽 x 高\n",
    "plt.imshow(img, cmap=plt.cm.gray)\n",
    "plt.xticks([])  # 去掉x轴\n",
    "plt.yticks([])  # 去掉y轴\n",
    "plt.axis('off')  # 去掉坐标轴\n",
    "plt.show()"
   ]
  },
  {
   "cell_type": "code",
   "execution_count": 3,
   "id": "7d979650",
   "metadata": {
    "execution": {
     "iopub.execute_input": "2022-05-05T13:08:47.786588Z",
     "iopub.status.busy": "2022-05-05T13:08:47.786213Z",
     "iopub.status.idle": "2022-05-05T13:08:47.829586Z",
     "shell.execute_reply": "2022-05-05T13:08:47.828820Z"
    },
    "papermill": {
     "duration": 0.061255,
     "end_time": "2022-05-05T13:08:47.832313",
     "exception": false,
     "start_time": "2022-05-05T13:08:47.771058",
     "status": "completed"
    },
    "tags": []
   },
   "outputs": [],
   "source": [
    "from keras.models import Model\n",
    "from keras.layers import Conv2D,UpSampling2D,MaxPooling2D\n",
    "from keras.layers import Input\n",
    "from keras.layers import LeakyReLU\n",
    "from keras.layers import BatchNormalization\n",
    "from keras import regularizers\n",
    "\n",
    "class Models:\n",
    "    def __init__(self,w,h,c):\n",
    "        self.w=w\n",
    "        self.h=h\n",
    "        self.c=c\n",
    "    def Arch1(self):\n",
    "        inp=Input(shape=(self.w,self.h,self.c))\n",
    "        enc=Conv2D(64,(3,3),padding='same')(inp)\n",
    "        enc=BatchNormalization()(enc)\n",
    "        enc=LeakyReLU(alpha=0.1)(enc)\n",
    "        enc=MaxPooling2D(pool_size=(2,2))(enc)\n",
    "        enc=Conv2D(32,(3,3),padding='same')(enc)\n",
    "        enc=LeakyReLU(alpha=0.1)(enc)\n",
    "        enc=BatchNormalization()(enc)\n",
    "        enc=MaxPooling2D(pool_size=(2,2))(enc)\n",
    "        enc=Conv2D(16,(3,3),padding='same')(enc)\n",
    "        enc=LeakyReLU(alpha=0.1)(enc)\n",
    "        enc=BatchNormalization()(enc)\n",
    "        enc=MaxPooling2D(pool_size=(2,2))(enc)\n",
    "        enc=Conv2D(8,(3,3),padding='same')(enc)\n",
    "        enc=LeakyReLU(alpha=0.1)(enc)\n",
    "        enc=MaxPooling2D(pool_size=(2,2))(enc)\n",
    "\n",
    "\n",
    "        dec=Conv2D(8,(3,3),padding='same')(enc)\n",
    "        dec=LeakyReLU(alpha=0.1)(dec)\n",
    "        dec=UpSampling2D((2,2))(dec)\n",
    "        dec=Conv2D(16,(3,3),padding='same')(dec)\n",
    "        dec=LeakyReLU(alpha=0.1)(dec)\n",
    "        dec=UpSampling2D((2,2))(dec)\n",
    "        dec=Conv2D(32,(3,3),padding='same')(dec)\n",
    "        dec=LeakyReLU(alpha=0.1)(dec)\n",
    "        dec=UpSampling2D((2,2))(dec)\n",
    "        dec=Conv2D(64,(3,3),padding='same')(dec)\n",
    "        dec=LeakyReLU(alpha=0.1)(dec)\n",
    "        dec=UpSampling2D((2,2))(dec)\n",
    "        final=Conv2D(1,(3,3),padding='same',activation='sigmoid')(dec)\n",
    "        auto=Model(inp,final)\n",
    "        return auto\n",
    "\n",
    "    def Arch2(self):\n",
    "        inp=Input(shape=(self.w,self.h,self.c))\n",
    "        enc=Conv2D(64,(3,3),padding='same',activity_regularizer=regularizers.l1(10e-5))(inp)\n",
    "        enc=BatchNormalization()(enc)\n",
    "        enc=LeakyReLU(alpha=0.1)(enc)\n",
    "        enc=MaxPooling2D(pool_size=(2,2))(enc)\n",
    "        enc=Conv2D(32,(3,3),padding='same',activity_regularizer=regularizers.l1(10e-5))(enc)\n",
    "        enc=LeakyReLU(alpha=0.1)(enc)\n",
    "        enc=BatchNormalization()(enc)\n",
    "        enc=MaxPooling2D(pool_size=(2,2))(enc)\n",
    "        enc=Conv2D(16,(3,3),padding='same',activity_regularizer=regularizers.l1(10e-5))(enc)\n",
    "        enc=LeakyReLU(alpha=0.1)(enc)\n",
    "        enc=BatchNormalization()(enc)\n",
    "        enc=MaxPooling2D(pool_size=(2,2),activity_regularizer=regularizers.l1(10e-5))(enc)\n",
    "        enc=Conv2D(8,(3,3),padding='same')(enc)\n",
    "        enc=LeakyReLU(alpha=0.1)(enc)\n",
    "        enc=MaxPooling2D(pool_size=(2,2))(enc)\n",
    "\n",
    "\n",
    "        dec=Conv2D(8,(3,3),padding='same',activity_regularizer=regularizers.l1(10e-5))(enc)\n",
    "        dec=LeakyReLU(alpha=0.1)(dec)\n",
    "        dec=UpSampling2D((2,2))(dec)\n",
    "        dec=Conv2D(16,(3,3),padding='same',activity_regularizer=regularizers.l1(10e-5))(dec)\n",
    "        dec=LeakyReLU(alpha=0.1)(dec)\n",
    "        dec=UpSampling2D((2,2))(dec)\n",
    "        dec=Conv2D(32,(3,3),padding='same',activity_regularizer=regularizers.l1(10e-5))(dec)\n",
    "        dec=LeakyReLU(alpha=0.1)(dec)\n",
    "        dec=UpSampling2D((2,2))(dec)\n",
    "        dec=Conv2D(64,(3,3),padding='same',activity_regularizer=regularizers.l1(10e-5))(dec)\n",
    "        dec=LeakyReLU(alpha=0.1)(dec)\n",
    "        dec=UpSampling2D((2,2))(dec)\n",
    "        final=Conv2D(1,(3,3),padding='same',activation='sigmoid')(dec)\n",
    "        auto=Model(inp,final)\n",
    "        return auto\n"
   ]
  },
  {
   "cell_type": "markdown",
   "id": "212305a7",
   "metadata": {
    "papermill": {
     "duration": 0.007564,
     "end_time": "2022-05-05T13:08:47.852940",
     "exception": false,
     "start_time": "2022-05-05T13:08:47.845376",
     "status": "completed"
    },
    "tags": []
   },
   "source": [
    "## main 函数："
   ]
  },
  {
   "cell_type": "code",
   "execution_count": 4,
   "id": "ea937b21",
   "metadata": {
    "execution": {
     "iopub.execute_input": "2022-05-05T13:08:47.870170Z",
     "iopub.status.busy": "2022-05-05T13:08:47.869941Z",
     "iopub.status.idle": "2022-05-05T13:09:16.620293Z",
     "shell.execute_reply": "2022-05-05T13:09:16.619462Z"
    },
    "papermill": {
     "duration": 28.762083,
     "end_time": "2022-05-05T13:09:16.623260",
     "exception": false,
     "start_time": "2022-05-05T13:08:47.861177",
     "status": "completed"
    },
    "tags": []
   },
   "outputs": [],
   "source": [
    "from sklearn.model_selection import train_test_split\n",
    "from keras.preprocessing.image import ImageDataGenerator\n",
    "from keras.optimizers import adam_v2\n",
    "\n",
    "w=240\n",
    "h=240\n",
    "c=1\n",
    "\n",
    "## 数据载入、训练集和测试集划分\n",
    "load_img=loader()\n",
    "x_data,y_data=load_img.load('../input/grid-map')\n",
    "x_data=np.array(x_data,dtype='float')/255.0\n",
    "y_data=np.array(y_data,dtype='float')/255.0\n",
    "train_x,test_x,train_y,test_y=train_test_split(x_data,y_data,test_size=0.1,random_state=30)"
   ]
  },
  {
   "cell_type": "code",
   "execution_count": 5,
   "id": "e9de69c9",
   "metadata": {
    "execution": {
     "iopub.execute_input": "2022-05-05T13:09:16.648636Z",
     "iopub.status.busy": "2022-05-05T13:09:16.648350Z",
     "iopub.status.idle": "2022-05-05T13:17:15.077222Z",
     "shell.execute_reply": "2022-05-05T13:17:15.076494Z"
    },
    "papermill": {
     "duration": 478.444124,
     "end_time": "2022-05-05T13:17:15.079832",
     "exception": false,
     "start_time": "2022-05-05T13:09:16.635708",
     "status": "completed"
    },
    "tags": []
   },
   "outputs": [
    {
     "name": "stderr",
     "output_type": "stream",
     "text": [
      "2022-05-05 13:09:16.783010: I tensorflow/stream_executor/cuda/cuda_gpu_executor.cc:937] successful NUMA node read from SysFS had negative value (-1), but there must be at least one NUMA node, so returning NUMA node zero\n",
      "2022-05-05 13:09:16.909554: I tensorflow/stream_executor/cuda/cuda_gpu_executor.cc:937] successful NUMA node read from SysFS had negative value (-1), but there must be at least one NUMA node, so returning NUMA node zero\n",
      "2022-05-05 13:09:16.910642: I tensorflow/stream_executor/cuda/cuda_gpu_executor.cc:937] successful NUMA node read from SysFS had negative value (-1), but there must be at least one NUMA node, so returning NUMA node zero\n",
      "2022-05-05 13:09:16.913496: I tensorflow/core/platform/cpu_feature_guard.cc:142] This TensorFlow binary is optimized with oneAPI Deep Neural Network Library (oneDNN) to use the following CPU instructions in performance-critical operations:  AVX2 AVX512F FMA\n",
      "To enable them in other operations, rebuild TensorFlow with the appropriate compiler flags.\n",
      "2022-05-05 13:09:16.918432: I tensorflow/stream_executor/cuda/cuda_gpu_executor.cc:937] successful NUMA node read from SysFS had negative value (-1), but there must be at least one NUMA node, so returning NUMA node zero\n",
      "2022-05-05 13:09:16.919955: I tensorflow/stream_executor/cuda/cuda_gpu_executor.cc:937] successful NUMA node read from SysFS had negative value (-1), but there must be at least one NUMA node, so returning NUMA node zero\n",
      "2022-05-05 13:09:16.921020: I tensorflow/stream_executor/cuda/cuda_gpu_executor.cc:937] successful NUMA node read from SysFS had negative value (-1), but there must be at least one NUMA node, so returning NUMA node zero\n",
      "2022-05-05 13:09:18.876475: I tensorflow/stream_executor/cuda/cuda_gpu_executor.cc:937] successful NUMA node read from SysFS had negative value (-1), but there must be at least one NUMA node, so returning NUMA node zero\n",
      "2022-05-05 13:09:18.877288: I tensorflow/stream_executor/cuda/cuda_gpu_executor.cc:937] successful NUMA node read from SysFS had negative value (-1), but there must be at least one NUMA node, so returning NUMA node zero\n",
      "2022-05-05 13:09:18.877973: I tensorflow/stream_executor/cuda/cuda_gpu_executor.cc:937] successful NUMA node read from SysFS had negative value (-1), but there must be at least one NUMA node, so returning NUMA node zero\n",
      "2022-05-05 13:09:18.879378: I tensorflow/core/common_runtime/gpu/gpu_device.cc:1510] Created device /job:localhost/replica:0/task:0/device:GPU:0 with 15403 MB memory:  -> device: 0, name: Tesla P100-PCIE-16GB, pci bus id: 0000:00:04.0, compute capability: 6.0\n"
     ]
    },
    {
     "name": "stdout",
     "output_type": "stream",
     "text": [
      "Model: \"model\"\n",
      "_________________________________________________________________\n",
      "Layer (type)                 Output Shape              Param #   \n",
      "=================================================================\n",
      "input_1 (InputLayer)         [(None, 240, 240, 1)]     0         \n",
      "_________________________________________________________________\n",
      "conv2d (Conv2D)              (None, 240, 240, 64)      640       \n",
      "_________________________________________________________________\n",
      "batch_normalization (BatchNo (None, 240, 240, 64)      256       \n",
      "_________________________________________________________________\n",
      "leaky_re_lu (LeakyReLU)      (None, 240, 240, 64)      0         \n",
      "_________________________________________________________________\n",
      "max_pooling2d (MaxPooling2D) (None, 120, 120, 64)      0         \n",
      "_________________________________________________________________\n",
      "conv2d_1 (Conv2D)            (None, 120, 120, 32)      18464     \n",
      "_________________________________________________________________\n",
      "leaky_re_lu_1 (LeakyReLU)    (None, 120, 120, 32)      0         \n",
      "_________________________________________________________________\n",
      "batch_normalization_1 (Batch (None, 120, 120, 32)      128       \n",
      "_________________________________________________________________\n",
      "max_pooling2d_1 (MaxPooling2 (None, 60, 60, 32)        0         \n",
      "_________________________________________________________________\n",
      "conv2d_2 (Conv2D)            (None, 60, 60, 16)        4624      \n",
      "_________________________________________________________________\n",
      "leaky_re_lu_2 (LeakyReLU)    (None, 60, 60, 16)        0         \n",
      "_________________________________________________________________\n",
      "batch_normalization_2 (Batch (None, 60, 60, 16)        64        \n",
      "_________________________________________________________________\n",
      "max_pooling2d_2 (MaxPooling2 (None, 30, 30, 16)        0         \n",
      "_________________________________________________________________\n",
      "conv2d_3 (Conv2D)            (None, 30, 30, 8)         1160      \n",
      "_________________________________________________________________\n",
      "leaky_re_lu_3 (LeakyReLU)    (None, 30, 30, 8)         0         \n",
      "_________________________________________________________________\n",
      "max_pooling2d_3 (MaxPooling2 (None, 15, 15, 8)         0         \n",
      "_________________________________________________________________\n",
      "conv2d_4 (Conv2D)            (None, 15, 15, 8)         584       \n",
      "_________________________________________________________________\n",
      "leaky_re_lu_4 (LeakyReLU)    (None, 15, 15, 8)         0         \n",
      "_________________________________________________________________\n",
      "up_sampling2d (UpSampling2D) (None, 30, 30, 8)         0         \n",
      "_________________________________________________________________\n",
      "conv2d_5 (Conv2D)            (None, 30, 30, 16)        1168      \n",
      "_________________________________________________________________\n",
      "leaky_re_lu_5 (LeakyReLU)    (None, 30, 30, 16)        0         \n",
      "_________________________________________________________________\n",
      "up_sampling2d_1 (UpSampling2 (None, 60, 60, 16)        0         \n",
      "_________________________________________________________________\n",
      "conv2d_6 (Conv2D)            (None, 60, 60, 32)        4640      \n",
      "_________________________________________________________________\n",
      "leaky_re_lu_6 (LeakyReLU)    (None, 60, 60, 32)        0         \n",
      "_________________________________________________________________\n",
      "up_sampling2d_2 (UpSampling2 (None, 120, 120, 32)      0         \n",
      "_________________________________________________________________\n",
      "conv2d_7 (Conv2D)            (None, 120, 120, 64)      18496     \n",
      "_________________________________________________________________\n",
      "leaky_re_lu_7 (LeakyReLU)    (None, 120, 120, 64)      0         \n",
      "_________________________________________________________________\n",
      "up_sampling2d_3 (UpSampling2 (None, 240, 240, 64)      0         \n",
      "_________________________________________________________________\n",
      "conv2d_8 (Conv2D)            (None, 240, 240, 1)       577       \n",
      "=================================================================\n",
      "Total params: 50,801\n",
      "Trainable params: 50,577\n",
      "Non-trainable params: 224\n",
      "_________________________________________________________________\n"
     ]
    },
    {
     "name": "stderr",
     "output_type": "stream",
     "text": [
      "2022-05-05 13:09:19.667098: W tensorflow/core/framework/cpu_allocator_impl.cc:80] Allocation of 748569600 exceeds 10% of free system memory.\n",
      "2022-05-05 13:09:20.928451: W tensorflow/core/framework/cpu_allocator_impl.cc:80] Allocation of 748569600 exceeds 10% of free system memory.\n",
      "2022-05-05 13:09:21.752321: W tensorflow/core/framework/cpu_allocator_impl.cc:80] Allocation of 748569600 exceeds 10% of free system memory.\n",
      "2022-05-05 13:09:22.287655: W tensorflow/core/framework/cpu_allocator_impl.cc:80] Allocation of 748569600 exceeds 10% of free system memory.\n",
      "2022-05-05 13:09:22.885822: I tensorflow/compiler/mlir/mlir_graph_optimization_pass.cc:185] None of the MLIR Optimization Passes are enabled (registered 2)\n"
     ]
    },
    {
     "name": "stdout",
     "output_type": "stream",
     "text": [
      "Epoch 1/30\n"
     ]
    },
    {
     "name": "stderr",
     "output_type": "stream",
     "text": [
      "2022-05-05 13:09:24.827095: I tensorflow/stream_executor/cuda/cuda_dnn.cc:369] Loaded cuDNN version 8005\n"
     ]
    },
    {
     "name": "stdout",
     "output_type": "stream",
     "text": [
      "813/813 [==============================] - 24s 20ms/step - loss: 68.9778 - val_loss: 57.1450\n",
      "Epoch 2/30\n",
      "813/813 [==============================] - 15s 19ms/step - loss: 50.5322 - val_loss: 44.5183\n",
      "Epoch 3/30\n",
      "813/813 [==============================] - 15s 19ms/step - loss: 39.8077 - val_loss: 36.5858\n",
      "Epoch 4/30\n",
      "813/813 [==============================] - 15s 19ms/step - loss: 33.8940 - val_loss: 31.7633\n",
      "Epoch 5/30\n",
      "813/813 [==============================] - 15s 19ms/step - loss: 29.5962 - val_loss: 27.8837\n",
      "Epoch 6/30\n",
      "813/813 [==============================] - 15s 19ms/step - loss: 26.1142 - val_loss: 24.6726\n",
      "Epoch 7/30\n",
      "813/813 [==============================] - 15s 19ms/step - loss: 23.1875 - val_loss: 21.9400\n",
      "Epoch 8/30\n",
      "813/813 [==============================] - 15s 19ms/step - loss: 20.6841 - val_loss: 19.6479\n",
      "Epoch 9/30\n",
      "813/813 [==============================] - 15s 19ms/step - loss: 18.5249 - val_loss: 17.7321\n",
      "Epoch 10/30\n",
      "813/813 [==============================] - 16s 19ms/step - loss: 16.6696 - val_loss: 16.0482\n",
      "Epoch 11/30\n",
      "813/813 [==============================] - 15s 19ms/step - loss: 15.1541 - val_loss: 14.7169\n",
      "Epoch 12/30\n",
      "813/813 [==============================] - 15s 19ms/step - loss: 13.9711 - val_loss: 13.6582\n",
      "Epoch 13/30\n",
      "813/813 [==============================] - 15s 19ms/step - loss: 13.0763 - val_loss: 12.8993\n",
      "Epoch 14/30\n",
      "813/813 [==============================] - 15s 19ms/step - loss: 12.3851 - val_loss: 12.2860\n",
      "Epoch 15/30\n",
      "813/813 [==============================] - 15s 19ms/step - loss: 11.8339 - val_loss: 11.7839\n",
      "Epoch 16/30\n",
      "813/813 [==============================] - 15s 19ms/step - loss: 11.3920 - val_loss: 11.3162\n",
      "Epoch 17/30\n",
      "813/813 [==============================] - 15s 19ms/step - loss: 11.0393 - val_loss: 10.9447\n",
      "Epoch 18/30\n",
      "813/813 [==============================] - 15s 19ms/step - loss: 10.7494 - val_loss: 10.5695\n",
      "Epoch 19/30\n",
      "813/813 [==============================] - 15s 19ms/step - loss: 10.5012 - val_loss: 10.3281\n",
      "Epoch 20/30\n",
      "813/813 [==============================] - 15s 19ms/step - loss: 10.2798 - val_loss: 10.1148\n",
      "Epoch 21/30\n",
      "813/813 [==============================] - 15s 19ms/step - loss: 10.0737 - val_loss: 9.9131\n",
      "Epoch 22/30\n",
      "813/813 [==============================] - 15s 19ms/step - loss: 9.8767 - val_loss: 9.7236\n",
      "Epoch 23/30\n",
      "813/813 [==============================] - 15s 19ms/step - loss: 9.6947 - val_loss: 9.5483\n",
      "Epoch 24/30\n",
      "813/813 [==============================] - 15s 19ms/step - loss: 9.5261 - val_loss: 9.3769\n",
      "Epoch 25/30\n",
      "813/813 [==============================] - 15s 19ms/step - loss: 9.3667 - val_loss: 9.2352\n",
      "Epoch 26/30\n",
      "813/813 [==============================] - 15s 19ms/step - loss: 9.2115 - val_loss: 9.0681\n",
      "Epoch 27/30\n",
      "813/813 [==============================] - 15s 19ms/step - loss: 9.0643 - val_loss: 8.9315\n",
      "Epoch 28/30\n",
      "813/813 [==============================] - 15s 19ms/step - loss: 8.9253 - val_loss: 8.7928\n",
      "Epoch 29/30\n",
      "813/813 [==============================] - 16s 19ms/step - loss: 8.7935 - val_loss: 8.6787\n",
      "Epoch 30/30\n",
      "813/813 [==============================] - 15s 19ms/step - loss: 8.6720 - val_loss: 8.5651\n"
     ]
    },
    {
     "name": "stderr",
     "output_type": "stream",
     "text": [
      "2022-05-05 13:17:12.796473: W tensorflow/python/util/util.cc:348] Sets are not currently considered sequences, but this may change in the future, so consider avoiding using them.\n"
     ]
    }
   ],
   "source": [
    "## 模型载入\n",
    "model=Models(w,h,c)\n",
    "auto_encoder=model.Arch2()\n",
    "auto_encoder.summary()\n",
    "\n",
    "auto_encoder.compile(optimizer='adadelta',loss='binary_crossentropy')\n",
    "auto_encoder.fit(train_x,train_y,batch_size=4,shuffle='true',epochs=30,validation_data=(test_x,test_y),verbose=1)\n",
    "auto_encoder.save('noise.MODEL')\n",
    "\n",
    "opt=adam_v2.Adam(learning_rate=0.001,decay=0.001/50)\n"
   ]
  },
  {
   "cell_type": "code",
   "execution_count": null,
   "id": "7473fd6b",
   "metadata": {
    "papermill": {
     "duration": 2.533066,
     "end_time": "2022-05-05T13:17:20.141789",
     "exception": false,
     "start_time": "2022-05-05T13:17:17.608723",
     "status": "completed"
    },
    "tags": []
   },
   "outputs": [],
   "source": []
  }
 ],
 "metadata": {
  "kernelspec": {
   "display_name": "Python 3",
   "language": "python",
   "name": "python3"
  },
  "language_info": {
   "codemirror_mode": {
    "name": "ipython",
    "version": 3
   },
   "file_extension": ".py",
   "mimetype": "text/x-python",
   "name": "python",
   "nbconvert_exporter": "python",
   "pygments_lexer": "ipython3",
   "version": "3.7.12"
  },
  "papermill": {
   "default_parameters": {},
   "duration": 531.762506,
   "end_time": "2022-05-05T13:17:26.024488",
   "environment_variables": {},
   "exception": null,
   "input_path": "__notebook__.ipynb",
   "output_path": "__notebook__.ipynb",
   "parameters": {},
   "start_time": "2022-05-05T13:08:34.261982",
   "version": "2.3.4"
  }
 },
 "nbformat": 4,
 "nbformat_minor": 5
}
