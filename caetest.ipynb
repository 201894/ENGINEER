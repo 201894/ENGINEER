{
 "cells": [
  {
   "cell_type": "markdown",
   "id": "ee8445b5",
   "metadata": {
    "papermill": {
     "duration": 0.008252,
     "end_time": "2022-05-05T13:19:28.992513",
     "exception": false,
     "start_time": "2022-05-05T13:19:28.984261",
     "status": "completed"
    },
    "tags": []
   },
   "source": [
    "### 1. data loader "
   ]
  },
  {
   "cell_type": "code",
   "execution_count": 1,
   "id": "79ff2950",
   "metadata": {
    "execution": {
     "iopub.execute_input": "2022-05-05T13:19:29.008678Z",
     "iopub.status.busy": "2022-05-05T13:19:29.008056Z",
     "iopub.status.idle": "2022-05-05T13:19:34.019584Z",
     "shell.execute_reply": "2022-05-05T13:19:34.018811Z"
    },
    "papermill": {
     "duration": 5.022046,
     "end_time": "2022-05-05T13:19:34.021805",
     "exception": false,
     "start_time": "2022-05-05T13:19:28.999759",
     "status": "completed"
    },
    "tags": []
   },
   "outputs": [],
   "source": [
    "import os\n",
    "import cv2\n",
    "import matplotlib.pyplot as plt\n",
    "import numpy as np\n",
    "\n",
    "\n",
    "from keras.preprocessing.image import img_to_array\n",
    "class loader:\n",
    "    def __init__(self):\n",
    "        self.x_data=[]\n",
    "        self.y_data=[]\n",
    "\n",
    "    def load(self,path):\n",
    "        files=os.listdir(path)\n",
    "        for i in files:\n",
    "            img=cv2.imread(path+'/'+i,cv2.IMREAD_GRAYSCALE)# 400 x 600\n",
    "            img=cv2.resize(img,(240,240))\n",
    "            #img=cv2.resize(img,(240,240))\n",
    "            #print(img.shape)\n",
    "            self.y_data.append(img_to_array(img))\n",
    "            self.x_data.append(img_to_array(img))\n",
    "        return self.x_data,self.y_data\n"
   ]
  },
  {
   "cell_type": "code",
   "execution_count": 2,
   "id": "8e755e81",
   "metadata": {
    "execution": {
     "iopub.execute_input": "2022-05-05T13:19:34.037601Z",
     "iopub.status.busy": "2022-05-05T13:19:34.036953Z",
     "iopub.status.idle": "2022-05-05T13:19:34.144957Z",
     "shell.execute_reply": "2022-05-05T13:19:34.144124Z"
    },
    "papermill": {
     "duration": 0.11931,
     "end_time": "2022-05-05T13:19:34.148358",
     "exception": false,
     "start_time": "2022-05-05T13:19:34.029048",
     "status": "completed"
    },
    "tags": []
   },
   "outputs": [
    {
     "data": {
      "image/png": "[encoded data removed]",
      "text/plain": [
       "<Figure size 432x288 with 1 Axes>"
      ]
     },
     "metadata": {},
     "output_type": "display_data"
    }
   ],
   "source": [
    "\n",
    "img=cv2.imread('../input/grid-map/111202511.png',cv2.IMREAD_GRAYSCALE)# 400 x 600\n",
    "img=cv2.resize(img,(240,240)) # 宽 x 高\n",
    "plt.imshow(img, cmap=plt.cm.gray)\n",
    "plt.xticks([])  # 去掉x轴\n",
    "plt.yticks([])  # 去掉y轴\n",
    "plt.axis('off')  # 去掉坐标轴\n",
    "plt.show()"
   ]
  },
  {
   "cell_type": "code",
   "execution_count": 3,
   "id": "03d7c06b",
   "metadata": {
    "execution": {
     "iopub.execute_input": "2022-05-05T13:19:34.178649Z",
     "iopub.status.busy": "2022-05-05T13:19:34.178348Z",
     "iopub.status.idle": "2022-05-05T13:19:34.218249Z",
     "shell.execute_reply": "2022-05-05T13:19:34.217559Z"
    },
    "papermill": {
     "duration": 0.057803,
     "end_time": "2022-05-05T13:19:34.220639",
     "exception": false,
     "start_time": "2022-05-05T13:19:34.162836",
     "status": "completed"
    },
    "tags": []
   },
   "outputs": [],
   "source": [
    "from keras.models import Model\n",
    "from keras.layers import Conv2D,UpSampling2D,MaxPooling2D\n",
    "from keras.layers import Input\n",
    "from keras.layers import LeakyReLU\n",
    "from keras.layers import BatchNormalization\n",
    "from keras import regularizers\n",
    "\n",
    "class Models:\n",
    "    def __init__(self,w,h,c):\n",
    "        self.w=w\n",
    "        self.h=h\n",
    "        self.c=c\n",
    "    def Arch1(self):\n",
    "        inp=Input(shape=(self.w,self.h,self.c))\n",
    "        enc=Conv2D(64,(3,3),padding='same')(inp)\n",
    "        enc=BatchNormalization()(enc)\n",
    "        enc=LeakyReLU(alpha=0.1)(enc)\n",
    "        enc=MaxPooling2D(pool_size=(2,2))(enc)\n",
    "        enc=Conv2D(32,(3,3),padding='same')(enc)\n",
    "        enc=LeakyReLU(alpha=0.1)(enc)\n",
    "        enc=BatchNormalization()(enc)\n",
    "        enc=MaxPooling2D(pool_size=(2,2))(enc)\n",
    "        enc=Conv2D(16,(3,3),padding='same')(enc)\n",
    "        enc=LeakyReLU(alpha=0.1)(enc)\n",
    "        enc=BatchNormalization()(enc)\n",
    "        enc=MaxPooling2D(pool_size=(2,2))(enc)\n",
    "        enc=Conv2D(8,(3,3),padding='same')(enc)\n",
    "        enc=LeakyReLU(alpha=0.1)(enc)\n",
    "        enc=MaxPooling2D(pool_size=(2,2))(enc)\n",
    "\n",
    "\n",
    "        dec=Conv2D(8,(3,3),padding='same')(enc)\n",
    "        dec=LeakyReLU(alpha=0.1)(dec)\n",
    "        dec=UpSampling2D((2,2))(dec)\n",
    "        dec=Conv2D(16,(3,3),padding='same')(dec)\n",
    "        dec=LeakyReLU(alpha=0.1)(dec)\n",
    "        dec=UpSampling2D((2,2))(dec)\n",
    "        dec=Conv2D(32,(3,3),padding='same')(dec)\n",
    "        dec=LeakyReLU(alpha=0.1)(dec)\n",
    "        dec=UpSampling2D((2,2))(dec)\n",
    "        dec=Conv2D(64,(3,3),padding='same')(dec)\n",
    "        dec=LeakyReLU(alpha=0.1)(dec)\n",
    "        dec=UpSampling2D((2,2))(dec)\n",
    "        final=Conv2D(1,(3,3),padding='same',activation='sigmoid')(dec)\n",
    "        auto=Model(inp,final)\n",
    "        return auto\n",
    "\n",
    "    def Arch2(self):\n",
    "        inp=Input(shape=(self.w,self.h,self.c))\n",
    "        enc=Conv2D(64,(3,3),padding='same',activity_regularizer=regularizers.l1(10e-5))(inp)\n",
    "        enc=BatchNormalization()(enc)\n",
    "        enc=LeakyReLU(alpha=0.1)(enc)\n",
    "        enc=MaxPooling2D(pool_size=(2,2))(enc)\n",
    "        enc=Conv2D(32,(3,3),padding='same',activity_regularizer=regularizers.l1(10e-5))(enc)\n",
    "        enc=LeakyReLU(alpha=0.1)(enc)\n",
    "        enc=BatchNormalization()(enc)\n",
    "        enc=MaxPooling2D(pool_size=(2,2))(enc)\n",
    "        enc=Conv2D(16,(3,3),padding='same',activity_regularizer=regularizers.l1(10e-5))(enc)\n",
    "        enc=LeakyReLU(alpha=0.1)(enc)\n",
    "        enc=BatchNormalization()(enc)\n",
    "        enc=MaxPooling2D(pool_size=(2,2),activity_regularizer=regularizers.l1(10e-5))(enc)\n",
    "        enc=Conv2D(8,(3,3),padding='same')(enc)\n",
    "        enc=LeakyReLU(alpha=0.1)(enc)\n",
    "        enc=MaxPooling2D(pool_size=(2,2))(enc)\n",
    "\n",
    "\n",
    "        dec=Conv2D(8,(3,3),padding='same',activity_regularizer=regularizers.l1(10e-5))(enc)\n",
    "        dec=LeakyReLU(alpha=0.1)(dec)\n",
    "        dec=UpSampling2D((2,2))(dec)\n",
    "        dec=Conv2D(16,(3,3),padding='same',activity_regularizer=regularizers.l1(10e-5))(dec)\n",
    "        dec=LeakyReLU(alpha=0.1)(dec)\n",
    "        dec=UpSampling2D((2,2))(dec)\n",
    "        dec=Conv2D(32,(3,3),padding='same',activity_regularizer=regularizers.l1(10e-5))(dec)\n",
    "        dec=LeakyReLU(alpha=0.1)(dec)\n",
    "        dec=UpSampling2D((2,2))(dec)\n",
    "        dec=Conv2D(64,(3,3),padding='same',activity_regularizer=regularizers.l1(10e-5))(dec)\n",
    "        dec=LeakyReLU(alpha=0.1)(dec)\n",
    "        dec=UpSampling2D((2,2))(dec)\n",
    "        final=Conv2D(1,(3,3),padding='same',activation='sigmoid')(dec)\n",
    "        auto=Model(inp,final)\n",
    "        return auto\n"
   ]
  },
  {
   "cell_type": "markdown",
   "id": "656f132f",
   "metadata": {
    "papermill": {
     "duration": 0.011387,
     "end_time": "2022-05-05T13:19:34.246769",
     "exception": false,
     "start_time": "2022-05-05T13:19:34.235382",
     "status": "completed"
    },
    "tags": []
   },
   "source": [
    "## main 函数："
   ]
  },
  {
   "cell_type": "code",
   "execution_count": 4,
   "id": "e2cd228e",
   "metadata": {
    "execution": {
     "iopub.execute_input": "2022-05-05T13:19:34.264083Z",
     "iopub.status.busy": "2022-05-05T13:19:34.263848Z",
     "iopub.status.idle": "2022-05-05T13:20:00.417671Z",
     "shell.execute_reply": "2022-05-05T13:20:00.416916Z"
    },
    "papermill": {
     "duration": 26.165455,
     "end_time": "2022-05-05T13:20:00.420192",
     "exception": false,
     "start_time": "2022-05-05T13:19:34.254737",
     "status": "completed"
    },
    "tags": []
   },
   "outputs": [],
   "source": [
    "from sklearn.model_selection import train_test_split\n",
    "from keras.preprocessing.image import ImageDataGenerator\n",
    "from keras.optimizers import adam_v2\n",
    "\n",
    "w=240\n",
    "h=240\n",
    "c=1\n",
    "\n",
    "## 数据载入、训练集和测试集划分\n",
    "load_img=loader()\n",
    "x_data,y_data=load_img.load('../input/grid-map')\n",
    "x_data=np.array(x_data,dtype='float')/255.0\n",
    "y_data=np.array(y_data,dtype='float')/255.0\n",
    "train_x,test_x,train_y,test_y=train_test_split(x_data,y_data,test_size=0.1,random_state=30)"
   ]
  },
  {
   "cell_type": "code",
   "execution_count": 5,
   "id": "abfd8c5b",
   "metadata": {
    "execution": {
     "iopub.execute_input": "2022-05-05T13:20:00.436847Z",
     "iopub.status.busy": "2022-05-05T13:20:00.436629Z",
     "iopub.status.idle": "2022-05-05T13:26:55.148266Z",
     "shell.execute_reply": "2022-05-05T13:26:55.147514Z"
    },
    "papermill": {
     "duration": 414.722461,
     "end_time": "2022-05-05T13:26:55.150494",
     "exception": false,
     "start_time": "2022-05-05T13:20:00.428033",
     "status": "completed"
    },
    "tags": []
   },
   "outputs": [
    {
     "name": "stderr",
     "output_type": "stream",
     "text": [
      "2022-05-05 13:20:00.541497: I tensorflow/stream_executor/cuda/cuda_gpu_executor.cc:937] successful NUMA node read from SysFS had negative value (-1), but there must be at least one NUMA node, so returning NUMA node zero\n",
      "2022-05-05 13:20:00.662363: I tensorflow/stream_executor/cuda/cuda_gpu_executor.cc:937] successful NUMA node read from SysFS had negative value (-1), but there must be at least one NUMA node, so returning NUMA node zero\n",
      "2022-05-05 13:20:00.663113: I tensorflow/stream_executor/cuda/cuda_gpu_executor.cc:937] successful NUMA node read from SysFS had negative value (-1), but there must be at least one NUMA node, so returning NUMA node zero\n",
      "2022-05-05 13:20:00.664180: I tensorflow/core/platform/cpu_feature_guard.cc:142] This TensorFlow binary is optimized with oneAPI Deep Neural Network Library (oneDNN) to use the following CPU instructions in performance-critical operations:  AVX2 AVX512F FMA\n",
      "To enable them in other operations, rebuild TensorFlow with the appropriate compiler flags.\n",
      "2022-05-05 13:20:00.672929: I tensorflow/stream_executor/cuda/cuda_gpu_executor.cc:937] successful NUMA node read from SysFS had negative value (-1), but there must be at least one NUMA node, so returning NUMA node zero\n",
      "2022-05-05 13:20:00.673625: I tensorflow/stream_executor/cuda/cuda_gpu_executor.cc:937] successful NUMA node read from SysFS had negative value (-1), but there must be at least one NUMA node, so returning NUMA node zero\n",
      "2022-05-05 13:20:00.674358: I tensorflow/stream_executor/cuda/cuda_gpu_executor.cc:937] successful NUMA node read from SysFS had negative value (-1), but there must be at least one NUMA node, so returning NUMA node zero\n",
      "2022-05-05 13:20:02.504941: I tensorflow/stream_executor/cuda/cuda_gpu_executor.cc:937] successful NUMA node read from SysFS had negative value (-1), but there must be at least one NUMA node, so returning NUMA node zero\n",
      "2022-05-05 13:20:02.505780: I tensorflow/stream_executor/cuda/cuda_gpu_executor.cc:937] successful NUMA node read from SysFS had negative value (-1), but there must be at least one NUMA node, so returning NUMA node zero\n",
      "2022-05-05 13:20:02.506507: I tensorflow/stream_executor/cuda/cuda_gpu_executor.cc:937] successful NUMA node read from SysFS had negative value (-1), but there must be at least one NUMA node, so returning NUMA node zero\n",
      "2022-05-05 13:20:02.507892: I tensorflow/core/common_runtime/gpu/gpu_device.cc:1510] Created device /job:localhost/replica:0/task:0/device:GPU:0 with 15403 MB memory:  -> device: 0, name: Tesla P100-PCIE-16GB, pci bus id: 0000:00:04.0, compute capability: 6.0\n"
     ]
    },
    {
     "name": "stdout",
     "output_type": "stream",
     "text": [
      "Model: \"model\"\n",
      "_________________________________________________________________\n",
      "Layer (type)                 Output Shape              Param #   \n",
      "=================================================================\n",
      "input_1 (InputLayer)         [(None, 240, 240, 1)]     0         \n",
      "_________________________________________________________________\n",
      "conv2d (Conv2D)              (None, 240, 240, 64)      640       \n",
      "_________________________________________________________________\n",
      "batch_normalization (BatchNo (None, 240, 240, 64)      256       \n",
      "_________________________________________________________________\n",
      "leaky_re_lu (LeakyReLU)      (None, 240, 240, 64)      0         \n",
      "_________________________________________________________________\n",
      "max_pooling2d (MaxPooling2D) (None, 120, 120, 64)      0         \n",
      "_________________________________________________________________\n",
      "conv2d_1 (Conv2D)            (None, 120, 120, 32)      18464     \n",
      "_________________________________________________________________\n",
      "leaky_re_lu_1 (LeakyReLU)    (None, 120, 120, 32)      0         \n",
      "_________________________________________________________________\n",
      "batch_normalization_1 (Batch (None, 120, 120, 32)      128       \n",
      "_________________________________________________________________\n",
      "max_pooling2d_1 (MaxPooling2 (None, 60, 60, 32)        0         \n",
      "_________________________________________________________________\n",
      "conv2d_2 (Conv2D)            (None, 60, 60, 16)        4624      \n",
      "_________________________________________________________________\n",
      "leaky_re_lu_2 (LeakyReLU)    (None, 60, 60, 16)        0         \n",
      "_________________________________________________________________\n",
      "batch_normalization_2 (Batch (None, 60, 60, 16)        64        \n",
      "_________________________________________________________________\n",
      "max_pooling2d_2 (MaxPooling2 (None, 30, 30, 16)        0         \n",
      "_________________________________________________________________\n",
      "conv2d_3 (Conv2D)            (None, 30, 30, 8)         1160      \n",
      "_________________________________________________________________\n",
      "leaky_re_lu_3 (LeakyReLU)    (None, 30, 30, 8)         0         \n",
      "_________________________________________________________________\n",
      "max_pooling2d_3 (MaxPooling2 (None, 15, 15, 8)         0         \n",
      "_________________________________________________________________\n",
      "conv2d_4 (Conv2D)            (None, 15, 15, 8)         584       \n",
      "_________________________________________________________________\n",
      "leaky_re_lu_4 (LeakyReLU)    (None, 15, 15, 8)         0         \n",
      "_________________________________________________________________\n",
      "up_sampling2d (UpSampling2D) (None, 30, 30, 8)         0         \n",
      "_________________________________________________________________\n",
      "conv2d_5 (Conv2D)            (None, 30, 30, 16)        1168      \n",
      "_________________________________________________________________\n",
      "leaky_re_lu_5 (LeakyReLU)    (None, 30, 30, 16)        0         \n",
      "_________________________________________________________________\n",
      "up_sampling2d_1 (UpSampling2 (None, 60, 60, 16)        0         \n",
      "_________________________________________________________________\n",
      "conv2d_6 (Conv2D)            (None, 60, 60, 32)        4640      \n",
      "_________________________________________________________________\n",
      "leaky_re_lu_6 (LeakyReLU)    (None, 60, 60, 32)        0         \n",
      "_________________________________________________________________\n",
      "up_sampling2d_2 (UpSampling2 (None, 120, 120, 32)      0         \n",
      "_________________________________________________________________\n",
      "conv2d_7 (Conv2D)            (None, 120, 120, 64)      18496     \n",
      "_________________________________________________________________\n",
      "leaky_re_lu_7 (LeakyReLU)    (None, 120, 120, 64)      0         \n",
      "_________________________________________________________________\n",
      "up_sampling2d_3 (UpSampling2 (None, 240, 240, 64)      0         \n",
      "_________________________________________________________________\n",
      "conv2d_8 (Conv2D)            (None, 240, 240, 1)       577       \n",
      "=================================================================\n",
      "Total params: 50,801\n",
      "Trainable params: 50,577\n",
      "Non-trainable params: 224\n",
      "_________________________________________________________________\n"
     ]
    },
    {
     "name": "stderr",
     "output_type": "stream",
     "text": [
      "2022-05-05 13:20:03.305452: W tensorflow/core/framework/cpu_allocator_impl.cc:80] Allocation of 748569600 exceeds 10% of free system memory.\n",
      "2022-05-05 13:20:04.740737: W tensorflow/core/framework/cpu_allocator_impl.cc:80] Allocation of 748569600 exceeds 10% of free system memory.\n",
      "2022-05-05 13:20:05.550513: W tensorflow/core/framework/cpu_allocator_impl.cc:80] Allocation of 748569600 exceeds 10% of free system memory.\n",
      "2022-05-05 13:20:06.072565: W tensorflow/core/framework/cpu_allocator_impl.cc:80] Allocation of 748569600 exceeds 10% of free system memory.\n",
      "2022-05-05 13:20:06.676280: I tensorflow/compiler/mlir/mlir_graph_optimization_pass.cc:185] None of the MLIR Optimization Passes are enabled (registered 2)\n"
     ]
    },
    {
     "name": "stdout",
     "output_type": "stream",
     "text": [
      "Epoch 1/30\n"
     ]
    },
    {
     "name": "stderr",
     "output_type": "stream",
     "text": [
      "2022-05-05 13:20:08.577493: I tensorflow/stream_executor/cuda/cuda_dnn.cc:369] Loaded cuDNN version 8005\n"
     ]
    },
    {
     "name": "stdout",
     "output_type": "stream",
     "text": [
      "407/407 [==============================] - 22s 35ms/step - loss: 82.5224 - val_loss: 61.2719\n",
      "Epoch 2/30\n",
      "407/407 [==============================] - 13s 32ms/step - loss: 68.6476 - val_loss: 62.1800\n",
      "Epoch 3/30\n",
      "407/407 [==============================] - 13s 32ms/step - loss: 58.3199 - val_loss: 53.8277\n",
      "Epoch 4/30\n",
      "407/407 [==============================] - 13s 32ms/step - loss: 50.5751 - val_loss: 47.2889\n",
      "Epoch 5/30\n",
      "407/407 [==============================] - 13s 32ms/step - loss: 45.1358 - val_loss: 43.0186\n",
      "Epoch 6/30\n",
      "407/407 [==============================] - 13s 32ms/step - loss: 41.1761 - val_loss: 39.6776\n",
      "Epoch 7/30\n",
      "407/407 [==============================] - 13s 32ms/step - loss: 37.8514 - val_loss: 36.5990\n",
      "Epoch 8/30\n",
      "407/407 [==============================] - 13s 32ms/step - loss: 35.0303 - val_loss: 33.9615\n",
      "Epoch 9/30\n",
      "407/407 [==============================] - 13s 32ms/step - loss: 32.6159 - val_loss: 31.7449\n",
      "Epoch 10/30\n",
      "407/407 [==============================] - 13s 32ms/step - loss: 30.4154 - val_loss: 29.6329\n",
      "Epoch 11/30\n",
      "407/407 [==============================] - 13s 32ms/step - loss: 28.4311 - val_loss: 27.6594\n",
      "Epoch 12/30\n",
      "407/407 [==============================] - 13s 32ms/step - loss: 26.6043 - val_loss: 25.8755\n",
      "Epoch 13/30\n",
      "407/407 [==============================] - 13s 33ms/step - loss: 24.9041 - val_loss: 24.2372\n",
      "Epoch 14/30\n",
      "407/407 [==============================] - 13s 32ms/step - loss: 23.3245 - val_loss: 22.7307\n",
      "Epoch 15/30\n",
      "407/407 [==============================] - 13s 32ms/step - loss: 21.8707 - val_loss: 21.3503\n",
      "Epoch 16/30\n",
      "407/407 [==============================] - 13s 33ms/step - loss: 20.5519 - val_loss: 20.1096\n",
      "Epoch 17/30\n",
      "407/407 [==============================] - 13s 32ms/step - loss: 19.3667 - val_loss: 18.9579\n",
      "Epoch 18/30\n",
      "407/407 [==============================] - 13s 33ms/step - loss: 18.3038 - val_loss: 17.9615\n",
      "Epoch 19/30\n",
      "407/407 [==============================] - 13s 32ms/step - loss: 17.3438 - val_loss: 17.0140\n",
      "Epoch 20/30\n",
      "407/407 [==============================] - 13s 32ms/step - loss: 16.4695 - val_loss: 16.1841\n",
      "Epoch 21/30\n",
      "407/407 [==============================] - 13s 33ms/step - loss: 15.6715 - val_loss: 15.4444\n",
      "Epoch 22/30\n",
      "407/407 [==============================] - 13s 32ms/step - loss: 14.9414 - val_loss: 14.7337\n",
      "Epoch 23/30\n",
      "407/407 [==============================] - 13s 33ms/step - loss: 14.2729 - val_loss: 14.0973\n",
      "Epoch 24/30\n",
      "407/407 [==============================] - 13s 32ms/step - loss: 13.6755 - val_loss: 13.5938\n",
      "Epoch 25/30\n",
      "407/407 [==============================] - 13s 32ms/step - loss: 13.1472 - val_loss: 13.1338\n",
      "Epoch 26/30\n",
      "407/407 [==============================] - 13s 33ms/step - loss: 12.6900 - val_loss: 12.6776\n",
      "Epoch 27/30\n",
      "407/407 [==============================] - 13s 32ms/step - loss: 12.3055 - val_loss: 12.3933\n",
      "Epoch 28/30\n",
      "407/407 [==============================] - 13s 33ms/step - loss: 12.0051 - val_loss: 12.0938\n",
      "Epoch 29/30\n",
      "407/407 [==============================] - 13s 32ms/step - loss: 11.7410 - val_loss: 11.8054\n",
      "Epoch 30/30\n",
      "407/407 [==============================] - 13s 32ms/step - loss: 11.5069 - val_loss: 11.5722\n"
     ]
    },
    {
     "name": "stderr",
     "output_type": "stream",
     "text": [
      "2022-05-05 13:26:52.861098: W tensorflow/python/util/util.cc:348] Sets are not currently considered sequences, but this may change in the future, so consider avoiding using them.\n"
     ]
    }
   ],
   "source": [
    "## 模型载入\n",
    "model=Models(w,h,c)\n",
    "auto_encoder=model.Arch2()\n",
    "auto_encoder.summary()\n",
    "\n",
    "auto_encoder.compile(optimizer='adadelta',loss='binary_crossentropy')\n",
    "auto_encoder.fit(train_x,train_y,batch_size=8,shuffle='true',epochs=30,validation_data=(test_x,test_y),verbose=1)\n",
    "auto_encoder.save('noise.MODEL')\n",
    "\n",
    "opt=adam_v2.Adam(learning_rate=0.002,decay=0.002/50)\n"
   ]
  },
  {
   "cell_type": "code",
   "execution_count": null,
   "id": "cf844984",
   "metadata": {
    "papermill": {
     "duration": 1.930773,
     "end_time": "2022-05-05T13:26:58.957558",
     "exception": false,
     "start_time": "2022-05-05T13:26:57.026785",
     "status": "completed"
    },
    "tags": []
   },
   "outputs": [],
   "source": []
  }
 ],
 "metadata": {
  "kernelspec": {
   "display_name": "Python 3",
   "language": "python",
   "name": "python3"
  },
  "language_info": {
   "codemirror_mode": {
    "name": "ipython",
    "version": 3
   },
   "file_extension": ".py",
   "mimetype": "text/x-python",
   "name": "python",
   "nbconvert_exporter": "python",
   "pygments_lexer": "ipython3",
   "version": "3.7.12"
  },
  "papermill": {
   "default_parameters": {},
   "duration": 462.707106,
   "end_time": "2022-05-05T13:27:03.744330",
   "environment_variables": {},
   "exception": null,
   "input_path": "__notebook__.ipynb",
   "output_path": "__notebook__.ipynb",
   "parameters": {},
   "start_time": "2022-05-05T13:19:21.037224",
   "version": "2.3.4"
  }
 },
 "nbformat": 4,
 "nbformat_minor": 5
}
